{
 "cells": [
  {
   "cell_type": "markdown",
   "id": "ebb835ae-121e-49c7-973e-f0f68497f1e1",
   "metadata": {
    "tags": []
   },
   "source": [
    "## DETECTION AND ATTRIBUTION\n",
    "\n",
    "This notebook is an attempt to create a model to do a \"Detection and Attribution\" study out of our findings. \n",
    "\n",
    "It builds on the correlation of climatic indices (SAM, ENSO, IOD, Polar vortex) to the mooring data, outlining a possible approach using a multiple linear regression model. This approach assumes a linear relationship between the climatic indices and the upwelling phenomenon - which might not be true and needs a bit of research on still."
   ]
  },
  {
   "cell_type": "markdown",
   "id": "f7d23df0-48ef-4901-adfb-1deebe90f770",
   "metadata": {
    "tags": []
   },
   "source": [
    "### STEPS THAT SHOULD BE DONE BEFORE GETTING HERE: \n",
    "\n",
    "STEP 1: Data Preparation\n",
    "1. Collect historical data for the South Australian upwelling (mooring data from IMOS) and the climatic indices (SAM, ENSO, IOD, Polar vortex, etc) for the same time period. \n",
    "2. Preprocess the data to handle missing values, outliers, and inconsistencies.\n",
    "- relevant notebooks: \n",
    "\n",
    "\n",
    "Step 2: Correlation Analysis\n",
    "1. Calculate Pearson correlation coefficients between the upwelling data and each climatic index. This initial analysis will give you a sense of the relationships.\n",
    "- relevant notebooks: \n",
    "\n",
    "### STEPS STILL TO DO: \n",
    "Step 1: Multiple Linear Regression Model\n",
    "1. Organize your data into a dataset with columns for the upwelling and the climatic indices.\n",
    "2. Divide the dataset into training and testing sets for model validation.\n",
    "\n",
    "Step 2: Model Building and training.\n",
    "1. Build the multiple linear regression model \n",
    "2. Train the model using the training dataset. The model will learn the relationships between the upwelling and the climatic indices.\n",
    "\n",
    "Step 3: Model Evaluation\n",
    "1. Evaluate the model's performance using the testing dataset. Metrics like Mean Squared Error (MSE), Root Mean Squared Error (RMSE), and R-squared can assess how well the model fits the data.\n",
    "\n",
    "Step 4: Interpretation\n",
    "1. Interpret the model coefficients. A positive coefficient indicates a positive correlation between the climatic index and the upwelling, while a negative coefficient indicates a negative correlation.\n",
    "\n",
    "Step 5: Scenario Analysis and Visualization\n",
    "1. Simulate different scenarios by altering the values of the climatic indices in the model.\n",
    "2. Plot the simulated upwelling values against the original observed values for visual comparison.\n",
    "\n",
    "Step 8: Sensitivity Analysis\n",
    "1. Perform sensitivity analysis by introducing variations in the climatic indices and observing their effects on the simulated upwelling.\n",
    "\n",
    "Step 9: Discussion and Implications\n",
    "1. Discuss the results of your model in the context of the South Australian upwelling phenomenon and the role of the climatic indices in its suppression.\n",
    "2. Highlight any interesting findings, interactions between indices, and potential implications for the marine ecosystem.\n",
    "\n",
    "Step 10: other models. \n",
    "1. You might need to explore more advanced modeling techniques, such as nonlinear regression, machine learning algorithms, or time series analysis, depending on the complexity of the relationships and the data."
   ]
  },
  {
   "cell_type": "code",
   "execution_count": null,
   "id": "c627ab0a-ed6f-47a5-84e5-34b4a0510ff5",
   "metadata": {},
   "outputs": [],
   "source": []
  },
  {
   "cell_type": "markdown",
   "id": "75d4348c-cb9b-400a-9d29-2336077f1225",
   "metadata": {},
   "source": [
    "### 2. Model Building and Training"
   ]
  },
  {
   "cell_type": "code",
   "execution_count": null,
   "id": "64efd625-5383-4de3-b3a8-171274f16c3d",
   "metadata": {},
   "outputs": [],
   "source": [
    "# Import necessary libraries\n",
    "import numpy as np\n",
    "import pandas as pd\n",
    "from sklearn.model_selection import train_test_split\n",
    "from sklearn.linear_model import LinearRegression\n",
    "from sklearn.metrics import mean_squared_error, r2_score\n",
    "import matplotlib.pyplot as plt\n",
    "\n",
    "# Load your data into a Pandas DataFrame\n",
    "data = pd.read_csv('your_data.csv')  # Replace 'your_data.csv' with your data file path\n",
    "\n",
    "# Separate features (climatic indices) and target (upwelling) variables\n",
    "X = data[['SAM', 'ENSO', 'IOD', 'Polar_vortex']]\n",
    "y = data['Upwelling']\n",
    "\n",
    "# Split data into training and testing sets\n",
    "X_train, X_test, y_train, y_test = train_test_split(X, y, test_size=0.2, random_state=42)\n",
    "\n",
    "# Create a linear regression model\n",
    "model = LinearRegression()\n",
    "\n",
    "# Train the model on the training data\n",
    "model.fit(X_train, y_train)\n",
    "\n",
    "# Make predictions on the testing data\n",
    "y_pred = model.predict(X_test)\n",
    "\n",
    "# Evaluate the model's performance\n",
    "mse = mean_squared_error(y_test, y_pred)\n",
    "r2 = r2_score(y_test, y_pred)\n",
    "\n",
    "print(\"Mean Squared Error:\", mse)\n",
    "print(\"R-squared:\", r2)\n",
    "\n",
    "# Plot the predicted vs. actual upwelling values\n",
    "plt.scatter(y_test, y_pred)\n",
    "plt.xlabel(\"Actual Upwelling\")\n",
    "plt.ylabel(\"Predicted Upwelling\")\n",
    "plt.title(\"Actual vs. Predicted Upwelling\")\n",
    "plt.show()\n"
   ]
  },
  {
   "cell_type": "code",
   "execution_count": null,
   "id": "afae5439-fd93-44d5-882e-fcca465f077b",
   "metadata": {},
   "outputs": [],
   "source": [
    "### 10. Other models \n"
   ]
  },
  {
   "cell_type": "code",
   "execution_count": null,
   "id": "59c6a9df-a07b-48e3-a517-d1872f376cd5",
   "metadata": {},
   "outputs": [],
   "source": [
    "# Import necessary libraries\n",
    "import numpy as np\n",
    "import pandas as pd\n",
    "from sklearn.model_selection import train_test_split\n",
    "from sklearn.ensemble import RandomForestRegressor\n",
    "from sklearn.metrics import mean_squared_error, r2_score\n",
    "import matplotlib.pyplot as plt\n",
    "\n",
    "# Load your data into a Pandas DataFrame\n",
    "data = pd.read_csv('your_data.csv')  # Replace 'your_data.csv' with your data file path\n",
    "\n",
    "# Separate features (climatic indices) and target (upwelling) variables\n",
    "X = data[['SAM', 'ENSO', 'IOD', 'Polar_vortex']]\n",
    "y = data['Upwelling']\n",
    "\n",
    "# Split data into training and testing sets\n",
    "X_train, X_test, y_train, y_test = train_test_split(X, y, test_size=0.2, random_state=42)\n",
    "\n",
    "# Create a Random Forest Regressor model\n",
    "model = RandomForestRegressor(n_estimators=100, random_state=42)\n",
    "\n",
    "# Train the model on the training data\n",
    "model.fit(X_train, y_train)\n",
    "\n",
    "# Make predictions on the testing data\n",
    "y_pred = model.predict(X_test)\n",
    "\n",
    "# Evaluate the model's performance\n",
    "mse = mean_squared_error(y_test, y_pred)\n",
    "r2 = r2_score(y_test, y_pred)\n",
    "\n",
    "print(\"Mean Squared Error:\", mse)\n",
    "print(\"R-squared:\", r2)\n",
    "\n",
    "# Plot the predicted vs. actual upwelling values\n",
    "plt.scatter(y_test, y_pred)\n",
    "plt.xlabel(\"Actual Upwelling\")\n",
    "plt.ylabel(\"Predicted Upwelling\")\n",
    "plt.title(\"Actual vs. Predicted Upwelling\")\n",
    "plt.show()\n"
   ]
  }
 ],
 "metadata": {
  "kernelspec": {
   "display_name": "Python 3 (ipykernel)",
   "language": "python",
   "name": "python3"
  },
  "language_info": {
   "codemirror_mode": {
    "name": "ipython",
    "version": 3
   },
   "file_extension": ".py",
   "mimetype": "text/x-python",
   "name": "python",
   "nbconvert_exporter": "python",
   "pygments_lexer": "ipython3",
   "version": "3.9.16"
  }
 },
 "nbformat": 4,
 "nbformat_minor": 5
}
