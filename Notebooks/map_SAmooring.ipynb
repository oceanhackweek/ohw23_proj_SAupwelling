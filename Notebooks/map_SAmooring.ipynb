{
 "cells": [
  {
   "cell_type": "markdown",
   "id": "3d749239-b379-46ec-b291-c0f7e4909ee4",
   "metadata": {},
   "source": [
    "# IMOS South Australia Mooring map"
   ]
  },
  {
   "cell_type": "markdown",
   "id": "1f834ca7-5322-419a-8607-1c85c558d135",
   "metadata": {},
   "source": [
    "### This is how you check if a package is installed or not."
   ]
  },
  {
   "cell_type": "code",
   "execution_count": 1,
   "id": "2409f7d0-a66b-41e7-8f9b-89c1a5aeb6bf",
   "metadata": {},
   "outputs": [
    {
     "data": {
      "text/plain": [
       "False"
      ]
     },
     "execution_count": 1,
     "metadata": {},
     "output_type": "execute_result"
    }
   ],
   "source": [
    "import sys\n",
    "'geopandas' in sys.modules"
   ]
  },
  {
   "cell_type": "markdown",
   "id": "60b0526e-71bf-4838-b1d1-a6bf6adf7f84",
   "metadata": {},
   "source": [
    "### This is how you install a package."
   ]
  },
  {
   "cell_type": "code",
   "execution_count": null,
   "id": "df57ad7d-d7d5-4171-80a2-72e482d72042",
   "metadata": {},
   "outputs": [],
   "source": [
    "pip install geopandas"
   ]
  },
  {
   "cell_type": "code",
   "execution_count": 6,
   "id": "855356b6-77e6-421d-bc51-55e3d576eb7b",
   "metadata": {},
   "outputs": [
    {
     "name": "stdout",
     "output_type": "stream",
     "text": [
      "Collecting cartopy\n",
      "  Downloading Cartopy-0.22.0-cp39-cp39-win_amd64.whl (11.2 MB)\n",
      "Requirement already satisfied: pyproj>=3.1.0 in c:\\users\\nribeiro\\anaconda3\\lib\\site-packages (from cartopy) (3.6.1)\n",
      "Requirement already satisfied: packaging>=20 in c:\\users\\nribeiro\\anaconda3\\lib\\site-packages (from cartopy) (21.3)\n",
      "Requirement already satisfied: shapely>=1.7 in c:\\users\\nribeiro\\anaconda3\\lib\\site-packages (from cartopy) (1.8.4)\n",
      "Collecting pyshp>=2.1\n",
      "  Downloading pyshp-2.3.1-py2.py3-none-any.whl (46 kB)\n",
      "Requirement already satisfied: matplotlib>=3.4 in c:\\users\\nribeiro\\anaconda3\\lib\\site-packages (from cartopy) (3.5.1)\n",
      "Requirement already satisfied: numpy>=1.21 in c:\\users\\nribeiro\\anaconda3\\lib\\site-packages (from cartopy) (1.21.5)\n",
      "Requirement already satisfied: pyparsing>=2.2.1 in c:\\users\\nribeiro\\anaconda3\\lib\\site-packages (from matplotlib>=3.4->cartopy) (3.0.4)\n",
      "Requirement already satisfied: fonttools>=4.22.0 in c:\\users\\nribeiro\\anaconda3\\lib\\site-packages (from matplotlib>=3.4->cartopy) (4.25.0)\n",
      "Requirement already satisfied: cycler>=0.10 in c:\\users\\nribeiro\\anaconda3\\lib\\site-packages (from matplotlib>=3.4->cartopy) (0.11.0)\n",
      "Requirement already satisfied: pillow>=6.2.0 in c:\\users\\nribeiro\\anaconda3\\lib\\site-packages (from matplotlib>=3.4->cartopy) (9.0.1)\n",
      "Requirement already satisfied: python-dateutil>=2.7 in c:\\users\\nribeiro\\anaconda3\\lib\\site-packages (from matplotlib>=3.4->cartopy) (2.8.2)\n",
      "Requirement already satisfied: kiwisolver>=1.0.1 in c:\\users\\nribeiro\\anaconda3\\lib\\site-packages (from matplotlib>=3.4->cartopy) (1.3.2)\n",
      "Requirement already satisfied: certifi in c:\\users\\nribeiro\\anaconda3\\lib\\site-packages (from pyproj>=3.1.0->cartopy) (2022.6.15)\n",
      "Requirement already satisfied: six>=1.5 in c:\\users\\nribeiro\\anaconda3\\lib\\site-packages (from python-dateutil>=2.7->matplotlib>=3.4->cartopy) (1.16.0)\n",
      "Installing collected packages: pyshp, cartopy\n",
      "Successfully installed cartopy-0.22.0 pyshp-2.3.1\n",
      "Note: you may need to restart the kernel to use updated packages.\n"
     ]
    }
   ],
   "source": [
    "pip install cartopy"
   ]
  },
  {
   "cell_type": "code",
   "execution_count": 7,
   "id": "638a67bc-d239-453f-ad14-e89a80171ee6",
   "metadata": {
    "tags": []
   },
   "outputs": [],
   "source": [
    "import matplotlib.pyplot as plt\n",
    "import pandas as pd\n",
    "import geopandas as gpd\n",
    "#import cartopy\n",
    "\n",
    "#from matplotlib import colormaps as cmaps\n",
    "# Mapping\n",
    "import cartopy.crs as ccrs\n",
    "import cartopy.feature as cf\n",
    "import matplotlib.patches as mpatches\n",
    "import matplotlib.lines as mlines\n",
    "\n",
    "# lat/long formaters - if starts with captial letter is an object in python\n",
    "from cartopy.mpl.ticker import LongitudeFormatter, LatitudeFormatter"
   ]
  },
  {
   "cell_type": "markdown",
   "id": "607ac95d-242d-40d7-a3b2-3c1f4b4e5c73",
   "metadata": {},
   "source": [
    "## Make table with mooring coordinates \n",
    "Coordinates taken from this [technical report](https://imos.org.au/fileadmin/user_upload/shared/ANMN/SA_Moorings/06c._Southern_Australia_Moorings_-_TS.pdf)."
   ]
  },
  {
   "cell_type": "code",
   "execution_count": 8,
   "id": "29bc3e04-a0a1-43d5-b4a8-6b9d0cd869fa",
   "metadata": {
    "tags": []
   },
   "outputs": [
    {
     "data": {
      "text/html": [
       "<div>\n",
       "<style scoped>\n",
       "    .dataframe tbody tr th:only-of-type {\n",
       "        vertical-align: middle;\n",
       "    }\n",
       "\n",
       "    .dataframe tbody tr th {\n",
       "        vertical-align: top;\n",
       "    }\n",
       "\n",
       "    .dataframe thead th {\n",
       "        text-align: right;\n",
       "    }\n",
       "</style>\n",
       "<table border=\"1\" class=\"dataframe\">\n",
       "  <thead>\n",
       "    <tr style=\"text-align: right;\">\n",
       "      <th></th>\n",
       "      <th>site</th>\n",
       "      <th>lat</th>\n",
       "      <th>long</th>\n",
       "      <th>nominal depth</th>\n",
       "      <th>status</th>\n",
       "      <th>geometry</th>\n",
       "    </tr>\n",
       "  </thead>\n",
       "  <tbody>\n",
       "    <tr>\n",
       "      <th>0</th>\n",
       "      <td>NRSKAI</td>\n",
       "      <td>-35.83593</td>\n",
       "      <td>136.44771</td>\n",
       "      <td>110</td>\n",
       "      <td>Current</td>\n",
       "      <td>POINT (136.44771 -35.83593)</td>\n",
       "    </tr>\n",
       "    <tr>\n",
       "      <th>1</th>\n",
       "      <td>SAM1DS</td>\n",
       "      <td>-36.51610</td>\n",
       "      <td>136.24320</td>\n",
       "      <td>500</td>\n",
       "      <td>Discontinued</td>\n",
       "      <td>POINT (136.24320 -36.51610)</td>\n",
       "    </tr>\n",
       "    <tr>\n",
       "      <th>2</th>\n",
       "      <td>SAM2CP</td>\n",
       "      <td>-35.26925</td>\n",
       "      <td>135.68682</td>\n",
       "      <td>100</td>\n",
       "      <td>Discontinued</td>\n",
       "      <td>POINT (135.68682 -35.26925)</td>\n",
       "    </tr>\n",
       "    <tr>\n",
       "      <th>3</th>\n",
       "      <td>SAM3MS</td>\n",
       "      <td>-36.14590</td>\n",
       "      <td>135.90400</td>\n",
       "      <td>170</td>\n",
       "      <td>Discontinued</td>\n",
       "      <td>POINT (135.90400 -36.14590)</td>\n",
       "    </tr>\n",
       "    <tr>\n",
       "      <th>4</th>\n",
       "      <td>SAM4CY</td>\n",
       "      <td>-36.51990</td>\n",
       "      <td>136.85502</td>\n",
       "      <td>120</td>\n",
       "      <td>Discontinued</td>\n",
       "      <td>POINT (136.85502 -36.51990)</td>\n",
       "    </tr>\n",
       "    <tr>\n",
       "      <th>5</th>\n",
       "      <td>SAM5CB</td>\n",
       "      <td>-34.92750</td>\n",
       "      <td>135.00980</td>\n",
       "      <td>95</td>\n",
       "      <td>Current</td>\n",
       "      <td>POINT (135.00980 -34.92750)</td>\n",
       "    </tr>\n",
       "    <tr>\n",
       "      <th>6</th>\n",
       "      <td>SAM6IS</td>\n",
       "      <td>-35.50020</td>\n",
       "      <td>136.59980</td>\n",
       "      <td>85</td>\n",
       "      <td>Discontinued</td>\n",
       "      <td>POINT (136.59980 -35.50020)</td>\n",
       "    </tr>\n",
       "    <tr>\n",
       "      <th>7</th>\n",
       "      <td>SAM7DS</td>\n",
       "      <td>-36.18090</td>\n",
       "      <td>135.84390</td>\n",
       "      <td>100</td>\n",
       "      <td>Discontinued</td>\n",
       "      <td>POINT (135.84390 -36.18090)</td>\n",
       "    </tr>\n",
       "    <tr>\n",
       "      <th>8</th>\n",
       "      <td>SAM8SG</td>\n",
       "      <td>-35.25000</td>\n",
       "      <td>136.69400</td>\n",
       "      <td>50</td>\n",
       "      <td>Current</td>\n",
       "      <td>POINT (136.69400 -35.25000)</td>\n",
       "    </tr>\n",
       "  </tbody>\n",
       "</table>\n",
       "</div>"
      ],
      "text/plain": [
       "     site       lat       long  nominal depth        status  \\\n",
       "0  NRSKAI -35.83593  136.44771            110       Current   \n",
       "1  SAM1DS -36.51610  136.24320            500  Discontinued   \n",
       "2  SAM2CP -35.26925  135.68682            100  Discontinued   \n",
       "3  SAM3MS -36.14590  135.90400            170  Discontinued   \n",
       "4  SAM4CY -36.51990  136.85502            120  Discontinued   \n",
       "5  SAM5CB -34.92750  135.00980             95       Current   \n",
       "6  SAM6IS -35.50020  136.59980             85  Discontinued   \n",
       "7  SAM7DS -36.18090  135.84390            100  Discontinued   \n",
       "8  SAM8SG -35.25000  136.69400             50       Current   \n",
       "\n",
       "                      geometry  \n",
       "0  POINT (136.44771 -35.83593)  \n",
       "1  POINT (136.24320 -36.51610)  \n",
       "2  POINT (135.68682 -35.26925)  \n",
       "3  POINT (135.90400 -36.14590)  \n",
       "4  POINT (136.85502 -36.51990)  \n",
       "5  POINT (135.00980 -34.92750)  \n",
       "6  POINT (136.59980 -35.50020)  \n",
       "7  POINT (135.84390 -36.18090)  \n",
       "8  POINT (136.69400 -35.25000)  "
      ]
     },
     "execution_count": 8,
     "metadata": {},
     "output_type": "execute_result"
    }
   ],
   "source": [
    "# create dataframe with coordinates\n",
    "site = ['NRSKAI','SAM1DS', 'SAM2CP', 'SAM3MS', 'SAM4CY', 'SAM5CB', 'SAM6IS', 'SAM7DS', 'SAM8SG']\n",
    "lat = [-35.83593, -36.5161, -35.26925, -36.1459, -36.5199, -34.9275, -35.5002, -36.1809, -35.25]\n",
    "long = [136.44771, 136.2432, 135.68682, 135.904, 136.85502, 135.0098, 136.5998, 135.8439, 136.694]\n",
    "nom_depth = [110, 500, 100, 170, 120, 95, 85, 100, 50]\n",
    "status = ['Current', 'Discontinued', 'Discontinued', 'Discontinued', 'Discontinued', 'Current', 'Discontinued', 'Discontinued', 'Current']\n",
    "\n",
    "df = pd.DataFrame({\"site\":site, \"lat\":lat, \"long\":long, \"nominal depth\":nom_depth, \"status\":status})\n",
    "df\n",
    "\n",
    "# turn into geodataframe\n",
    "gdf = gpd.GeoDataFrame(df, geometry = gpd.points_from_xy(df.long, df.lat, crs=\"EPSG:4326\"))\n",
    "gdf"
   ]
  },
  {
   "cell_type": "code",
   "execution_count": 9,
   "id": "523f4c26-4ae8-4151-8a7b-50cd4c614ef4",
   "metadata": {},
   "outputs": [
    {
     "data": {
      "text/plain": [
       "<AxesSubplot:>"
      ]
     },
     "execution_count": 9,
     "metadata": {},
     "output_type": "execute_result"
    },
    {
     "data": {
      "image/png": "[encoded data removed]",
      "text/plain": [
       "<Figure size 432x288 with 1 Axes>"
      ]
     },
     "metadata": {
      "needs_background": "light"
     },
     "output_type": "display_data"
    }
   ],
   "source": [
    "gdf.plot(color = \"green\") # initial plot"
   ]
  },
  {
   "cell_type": "code",
   "execution_count": 10,
   "id": "8189b465-f961-4b1b-8d9c-cc0d56a76a6d",
   "metadata": {
    "tags": []
   },
   "outputs": [
    {
     "data": {
      "text/html": [
       "<div>\n",
       "<style scoped>\n",
       "    .dataframe tbody tr th:only-of-type {\n",
       "        vertical-align: middle;\n",
       "    }\n",
       "\n",
       "    .dataframe tbody tr th {\n",
       "        vertical-align: top;\n",
       "    }\n",
       "\n",
       "    .dataframe thead th {\n",
       "        text-align: right;\n",
       "    }\n",
       "</style>\n",
       "<table border=\"1\" class=\"dataframe\">\n",
       "  <thead>\n",
       "    <tr style=\"text-align: right;\">\n",
       "      <th></th>\n",
       "      <th>site</th>\n",
       "      <th>lat</th>\n",
       "      <th>long</th>\n",
       "      <th>nominal depth</th>\n",
       "      <th>status</th>\n",
       "      <th>geometry</th>\n",
       "    </tr>\n",
       "  </thead>\n",
       "  <tbody>\n",
       "    <tr>\n",
       "      <th>0</th>\n",
       "      <td>NRSKAI</td>\n",
       "      <td>-35.83593</td>\n",
       "      <td>136.44771</td>\n",
       "      <td>110</td>\n",
       "      <td>Current</td>\n",
       "      <td>POINT (136.44771 -35.83593)</td>\n",
       "    </tr>\n",
       "    <tr>\n",
       "      <th>1</th>\n",
       "      <td>SAM1DS</td>\n",
       "      <td>-36.75000</td>\n",
       "      <td>135.80000</td>\n",
       "      <td>500</td>\n",
       "      <td>Discontinued</td>\n",
       "      <td>POINT (136.24320 -36.51610)</td>\n",
       "    </tr>\n",
       "    <tr>\n",
       "      <th>2</th>\n",
       "      <td>SAM2CP</td>\n",
       "      <td>-35.26925</td>\n",
       "      <td>135.68682</td>\n",
       "      <td>100</td>\n",
       "      <td>Discontinued</td>\n",
       "      <td>POINT (135.68682 -35.26925)</td>\n",
       "    </tr>\n",
       "    <tr>\n",
       "      <th>3</th>\n",
       "      <td>SAM3MS</td>\n",
       "      <td>-36.14590</td>\n",
       "      <td>135.90400</td>\n",
       "      <td>170</td>\n",
       "      <td>Discontinued</td>\n",
       "      <td>POINT (135.90400 -36.14590)</td>\n",
       "    </tr>\n",
       "    <tr>\n",
       "      <th>4</th>\n",
       "      <td>SAM4CY</td>\n",
       "      <td>-36.51990</td>\n",
       "      <td>136.85502</td>\n",
       "      <td>120</td>\n",
       "      <td>Discontinued</td>\n",
       "      <td>POINT (136.85502 -36.51990)</td>\n",
       "    </tr>\n",
       "    <tr>\n",
       "      <th>5</th>\n",
       "      <td>SAM5CB</td>\n",
       "      <td>-34.92750</td>\n",
       "      <td>135.00980</td>\n",
       "      <td>95</td>\n",
       "      <td>Current</td>\n",
       "      <td>POINT (135.00980 -34.92750)</td>\n",
       "    </tr>\n",
       "    <tr>\n",
       "      <th>6</th>\n",
       "      <td>SAM6IS</td>\n",
       "      <td>-35.50020</td>\n",
       "      <td>136.59980</td>\n",
       "      <td>85</td>\n",
       "      <td>Discontinued</td>\n",
       "      <td>POINT (136.59980 -35.50020)</td>\n",
       "    </tr>\n",
       "    <tr>\n",
       "      <th>7</th>\n",
       "      <td>SAM7DS</td>\n",
       "      <td>-36.40000</td>\n",
       "      <td>135.84390</td>\n",
       "      <td>100</td>\n",
       "      <td>Discontinued</td>\n",
       "      <td>POINT (135.84390 -36.18090)</td>\n",
       "    </tr>\n",
       "    <tr>\n",
       "      <th>8</th>\n",
       "      <td>SAM8SG</td>\n",
       "      <td>-35.25000</td>\n",
       "      <td>136.69400</td>\n",
       "      <td>50</td>\n",
       "      <td>Current</td>\n",
       "      <td>POINT (136.69400 -35.25000)</td>\n",
       "    </tr>\n",
       "  </tbody>\n",
       "</table>\n",
       "</div>"
      ],
      "text/plain": [
       "     site       lat       long  nominal depth        status  \\\n",
       "0  NRSKAI -35.83593  136.44771            110       Current   \n",
       "1  SAM1DS -36.75000  135.80000            500  Discontinued   \n",
       "2  SAM2CP -35.26925  135.68682            100  Discontinued   \n",
       "3  SAM3MS -36.14590  135.90400            170  Discontinued   \n",
       "4  SAM4CY -36.51990  136.85502            120  Discontinued   \n",
       "5  SAM5CB -34.92750  135.00980             95       Current   \n",
       "6  SAM6IS -35.50020  136.59980             85  Discontinued   \n",
       "7  SAM7DS -36.40000  135.84390            100  Discontinued   \n",
       "8  SAM8SG -35.25000  136.69400             50       Current   \n",
       "\n",
       "                      geometry  \n",
       "0  POINT (136.44771 -35.83593)  \n",
       "1  POINT (136.24320 -36.51610)  \n",
       "2  POINT (135.68682 -35.26925)  \n",
       "3  POINT (135.90400 -36.14590)  \n",
       "4  POINT (136.85502 -36.51990)  \n",
       "5  POINT (135.00980 -34.92750)  \n",
       "6  POINT (136.59980 -35.50020)  \n",
       "7  POINT (135.84390 -36.18090)  \n",
       "8  POINT (136.69400 -35.25000)  "
      ]
     },
     "execution_count": 10,
     "metadata": {},
     "output_type": "execute_result"
    }
   ],
   "source": [
    "# adjust lat/long columns to prevent overlapping labels for map\n",
    "gdf_lab = gdf\n",
    "gdf_lab\n",
    "gdf_lab.iloc[7,1] = -36.4\n",
    "gdf_lab.iloc[1,1] = -36.75\n",
    "gdf_lab.iloc[1,2] = 135.8\n",
    "gdf_lab"
   ]
  },
  {
   "cell_type": "code",
   "execution_count": 16,
   "id": "10637513-b527-458a-9491-7443e8044b19",
   "metadata": {},
   "outputs": [
    {
     "data": {
      "image/png": "[encoded data removed]",
      "text/plain": [
       "<Figure size 432x288 with 1 Axes>"
      ]
     },
     "metadata": {
      "needs_background": "light"
     },
     "output_type": "display_data"
    }
   ],
   "source": [
    "# Initialise the figure\n",
    "fig = plt.figure() \n",
    "ax = plt.axes(projection = ccrs.PlateCarree())\n",
    "ax.set_xlim(134.5, 139)\n",
    "ax.set_ylim(-37, -33.5)\n",
    "ax.add_feature(cf.LAND)\n",
    "ax.add_feature(cf.OCEAN)\n",
    "\n",
    "# star marker for national reference station kangaroo island\n",
    "gdf[gdf.site == 'NRSKAI'].plot(ax = ax, \n",
    "                                color = 'red', \n",
    "                                marker = \"*\", \n",
    "                                markersize = 80,\n",
    "                                legend = True,\n",
    "                                label = \"NRS\")\n",
    "# plot current sites as red\n",
    "current = gdf[(gdf.site == 'SAM5CB') | (gdf.site == 'SAM8SG')].plot(ax = ax, color = 'red', markersize = 40)\n",
    "# discontinued sites as blue\n",
    "discontinued = gdf[(gdf.site != 'SAM5CB') & (gdf.site != 'SAM8SG') & (gdf.site != 'NRSKAI')].plot(ax=ax, markersize = 30)\n",
    "\n",
    "red_dot= mlines.Line2D([], [], color='red', marker='o', linestyle='None',\n",
    "                          markersize=10, label='Current')\n",
    "red_star = mlines.Line2D([], [], color='red', marker='*', linestyle='None',\n",
    "                          markersize=10, label='National\\nReference\\nStation')\n",
    "blue_dot = mlines.Line2D([], [], color='blue', marker='o', linestyle='None',\n",
    "                          markersize=10, label='Discontinued')\n",
    "ax.legend(handles=[red_dot, red_star, blue_dot])\n",
    "\n",
    "# add the lat/long tick marks on axes\n",
    "# gca is get current axis to manaually set the tick values\n",
    "plt.gca().set_yticks([-37, -36, -35, -34], crs=ccrs.PlateCarree()) #gca = get current axis\n",
    "plt.gca().set_xticks([135, 136, 137, 138, 139], crs=ccrs.PlateCarree())\n",
    "\n",
    "# formatter to have degrees N/S for lat/long\n",
    "lon_formatter = LongitudeFormatter(zero_direction_label=True)\n",
    "lat_formatter = LatitudeFormatter()\n",
    "ax.xaxis.set_major_formatter(lon_formatter)\n",
    "ax.yaxis.set_major_formatter(lat_formatter)\n",
    "\n",
    "# Set plot title and labels\n",
    "plt.title('IMOS South Australia Moorings')\n",
    "#plt.xlabel('Longitude')\n",
    "#plt.ylabel('Latitude')\n",
    "\n",
    "# label sites with adjusted lat long\n",
    "for x, y, label in zip(gdf.long, gdf.lat, gdf.site):\n",
    "    ax.annotate(label, xy=(x, y), xytext=(3, 4), textcoords=\"offset points\")\n",
    "    \n",
    "plt.gcf().savefig(\"../Figures/map_SAmooring.png\") # save figure"
   ]
  },
  {
   "cell_type": "code",
   "execution_count": null,
   "id": "0ca0f988-47d8-43ad-9615-821e32ba41b8",
   "metadata": {},
   "outputs": [],
   "source": []
  }
 ],
 "metadata": {
  "kernelspec": {
   "display_name": "Python 3 (ipykernel)",
   "language": "python",
   "name": "python3"
  },
  "language_info": {
   "codemirror_mode": {
    "name": "ipython",
    "version": 3
   },
   "file_extension": ".py",
   "mimetype": "text/x-python",
   "name": "python",
   "nbconvert_exporter": "python",
   "pygments_lexer": "ipython3",
   "version": "3.9.12"
  }
 },
 "nbformat": 4,
 "nbformat_minor": 5
}
