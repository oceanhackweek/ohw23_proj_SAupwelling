{
 "cells": [
  {
   "cell_type": "markdown",
   "id": "3d749239-b379-46ec-b291-c0f7e4909ee4",
   "metadata": {},
   "source": [
    "# IMOS South Australia Mooring map"
   ]
  },
  {
   "cell_type": "markdown",
   "id": "1f834ca7-5322-419a-8607-1c85c558d135",
   "metadata": {},
   "source": [
    "### This is how you check if a package is installed or not."
   ]
  },
  {
   "cell_type": "code",
   "execution_count": 1,
   "id": "2409f7d0-a66b-41e7-8f9b-89c1a5aeb6bf",
   "metadata": {},
   "outputs": [
    {
     "data": {
      "text/plain": [
       "False"
      ]
     },
     "execution_count": 1,
     "metadata": {},
     "output_type": "execute_result"
    }
   ],
   "source": [
    "import sys\n",
    "'geopandas' in sys.modules"
   ]
  },
  {
   "cell_type": "markdown",
   "id": "60b0526e-71bf-4838-b1d1-a6bf6adf7f84",
   "metadata": {},
   "source": [
    "### This is how you install a package."
   ]
  },
  {
   "cell_type": "code",
<<<<<<< HEAD
   "execution_count": 2,
   "id": "df57ad7d-d7d5-4171-80a2-72e482d72042",
   "metadata": {},
   "outputs": [
    {
     "name": "stdout",
     "output_type": "stream",
     "text": [
      "Requirement already satisfied: geopandas in c:\\users\\nribeiro\\anaconda3\\lib\\site-packages (0.14.2)\n",
      "Requirement already satisfied: pyproj>=3.3.0 in c:\\users\\nribeiro\\anaconda3\\lib\\site-packages (from geopandas) (3.6.1)\n",
      "Requirement already satisfied: packaging in c:\\users\\nribeiro\\anaconda3\\lib\\site-packages (from geopandas) (21.3)\n",
      "Requirement already satisfied: fiona>=1.8.21 in c:\\users\\nribeiro\\anaconda3\\lib\\site-packages (from geopandas) (1.9.5)\n",
      "Requirement already satisfied: pandas>=1.4.0 in c:\\users\\nribeiro\\anaconda3\\lib\\site-packages (from geopandas) (1.4.2)\n",
      "Requirement already satisfied: shapely>=1.8.0 in c:\\users\\nribeiro\\anaconda3\\lib\\site-packages (from geopandas) (1.8.4)\n",
      "Requirement already satisfied: certifi in c:\\users\\nribeiro\\anaconda3\\lib\\site-packages (from fiona>=1.8.21->geopandas) (2022.6.15)\n",
      "Requirement already satisfied: attrs>=19.2.0 in c:\\users\\nribeiro\\anaconda3\\lib\\site-packages (from fiona>=1.8.21->geopandas) (21.4.0)\n",
      "Requirement already satisfied: six in c:\\users\\nribeiro\\anaconda3\\lib\\site-packages (from fiona>=1.8.21->geopandas) (1.16.0)\n",
      "Requirement already satisfied: click~=8.0 in c:\\users\\nribeiro\\anaconda3\\lib\\site-packages (from fiona>=1.8.21->geopandas) (8.1.3)\n",
      "Requirement already satisfied: setuptools in c:\\users\\nribeiro\\anaconda3\\lib\\site-packages (from fiona>=1.8.21->geopandas) (61.2.0)\n",
      "Requirement already satisfied: click-plugins>=1.0 in c:\\users\\nribeiro\\anaconda3\\lib\\site-packages (from fiona>=1.8.21->geopandas) (1.1.1)\n",
      "Requirement already satisfied: importlib-metadata in c:\\users\\nribeiro\\anaconda3\\lib\\site-packages (from fiona>=1.8.21->geopandas) (4.11.3)\n",
      "Requirement already satisfied: cligj>=0.5 in c:\\users\\nribeiro\\anaconda3\\lib\\site-packages (from fiona>=1.8.21->geopandas) (0.7.2)\n",
      "Requirement already satisfied: colorama in c:\\users\\nribeiro\\anaconda3\\lib\\site-packages (from click~=8.0->fiona>=1.8.21->geopandas) (0.4.4)\n",
      "Requirement already satisfied: numpy>=1.18.5 in c:\\users\\nribeiro\\anaconda3\\lib\\site-packages (from pandas>=1.4.0->geopandas) (1.21.5)\n",
      "Requirement already satisfied: python-dateutil>=2.8.1 in c:\\users\\nribeiro\\anaconda3\\lib\\site-packages (from pandas>=1.4.0->geopandas) (2.8.2)\n",
      "Requirement already satisfied: pytz>=2020.1 in c:\\users\\nribeiro\\anaconda3\\lib\\site-packages (from pandas>=1.4.0->geopandas) (2021.3)\n",
      "Requirement already satisfied: zipp>=0.5 in c:\\users\\nribeiro\\anaconda3\\lib\\site-packages (from importlib-metadata->fiona>=1.8.21->geopandas) (3.7.0)\n",
      "Requirement already satisfied: pyparsing!=3.0.5,>=2.0.2 in c:\\users\\nribeiro\\anaconda3\\lib\\site-packages (from packaging->geopandas) (3.0.4)\n",
      "Note: you may need to restart the kernel to use updated packages.\n"
     ]
    }
   ],
=======
   "execution_count": null,
   "id": "df57ad7d-d7d5-4171-80a2-72e482d72042",
   "metadata": {},
   "outputs": [],
>>>>>>> 84c9136a382605743be1ead127367dc399c5419c
   "source": [
    "pip install geopandas"
   ]
  },
  {
   "cell_type": "code",
<<<<<<< HEAD
   "execution_count": 3,
=======
   "execution_count": 6,
>>>>>>> 84c9136a382605743be1ead127367dc399c5419c
   "id": "855356b6-77e6-421d-bc51-55e3d576eb7b",
   "metadata": {},
   "outputs": [
    {
     "name": "stdout",
     "output_type": "stream",
     "text": [
<<<<<<< HEAD
      "Requirement already satisfied: cartopy in c:\\users\\nribeiro\\anaconda3\\lib\\site-packages (0.22.0)\n",
      "Requirement already satisfied: matplotlib>=3.4 in c:\\users\\nribeiro\\anaconda3\\lib\\site-packages (from cartopy) (3.5.1)\n",
      "Requirement already satisfied: packaging>=20 in c:\\users\\nribeiro\\anaconda3\\lib\\site-packages (from cartopy) (21.3)\n",
      "Requirement already satisfied: shapely>=1.7 in c:\\users\\nribeiro\\anaconda3\\lib\\site-packages (from cartopy) (1.8.4)\n",
      "Requirement already satisfied: numpy>=1.21 in c:\\users\\nribeiro\\anaconda3\\lib\\site-packages (from cartopy) (1.21.5)\n",
      "Requirement already satisfied: pyproj>=3.1.0 in c:\\users\\nribeiro\\anaconda3\\lib\\site-packages (from cartopy) (3.6.1)\n",
      "Requirement already satisfied: pyshp>=2.1 in c:\\users\\nribeiro\\anaconda3\\lib\\site-packages (from cartopy) (2.3.1)\n",
      "Requirement already satisfied: pillow>=6.2.0 in c:\\users\\nribeiro\\anaconda3\\lib\\site-packages (from matplotlib>=3.4->cartopy) (9.0.1)\n",
      "Requirement already satisfied: python-dateutil>=2.7 in c:\\users\\nribeiro\\anaconda3\\lib\\site-packages (from matplotlib>=3.4->cartopy) (2.8.2)\n",
      "Requirement already satisfied: kiwisolver>=1.0.1 in c:\\users\\nribeiro\\anaconda3\\lib\\site-packages (from matplotlib>=3.4->cartopy) (1.3.2)\n",
      "Requirement already satisfied: cycler>=0.10 in c:\\users\\nribeiro\\anaconda3\\lib\\site-packages (from matplotlib>=3.4->cartopy) (0.11.0)\n",
      "Requirement already satisfied: fonttools>=4.22.0 in c:\\users\\nribeiro\\anaconda3\\lib\\site-packages (from matplotlib>=3.4->cartopy) (4.25.0)\n",
      "Requirement already satisfied: pyparsing>=2.2.1 in c:\\users\\nribeiro\\anaconda3\\lib\\site-packages (from matplotlib>=3.4->cartopy) (3.0.4)\n",
      "Requirement already satisfied: certifi in c:\\users\\nribeiro\\anaconda3\\lib\\site-packages (from pyproj>=3.1.0->cartopy) (2022.6.15)\n",
      "Requirement already satisfied: six>=1.5 in c:\\users\\nribeiro\\anaconda3\\lib\\site-packages (from python-dateutil>=2.7->matplotlib>=3.4->cartopy) (1.16.0)\n",
=======
      "Collecting cartopy\n",
      "  Downloading Cartopy-0.22.0-cp39-cp39-win_amd64.whl (11.2 MB)\n",
      "Requirement already satisfied: pyproj>=3.1.0 in c:\\users\\nribeiro\\anaconda3\\lib\\site-packages (from cartopy) (3.6.1)\n",
      "Requirement already satisfied: packaging>=20 in c:\\users\\nribeiro\\anaconda3\\lib\\site-packages (from cartopy) (21.3)\n",
      "Requirement already satisfied: shapely>=1.7 in c:\\users\\nribeiro\\anaconda3\\lib\\site-packages (from cartopy) (1.8.4)\n",
      "Collecting pyshp>=2.1\n",
      "  Downloading pyshp-2.3.1-py2.py3-none-any.whl (46 kB)\n",
      "Requirement already satisfied: matplotlib>=3.4 in c:\\users\\nribeiro\\anaconda3\\lib\\site-packages (from cartopy) (3.5.1)\n",
      "Requirement already satisfied: numpy>=1.21 in c:\\users\\nribeiro\\anaconda3\\lib\\site-packages (from cartopy) (1.21.5)\n",
      "Requirement already satisfied: pyparsing>=2.2.1 in c:\\users\\nribeiro\\anaconda3\\lib\\site-packages (from matplotlib>=3.4->cartopy) (3.0.4)\n",
      "Requirement already satisfied: fonttools>=4.22.0 in c:\\users\\nribeiro\\anaconda3\\lib\\site-packages (from matplotlib>=3.4->cartopy) (4.25.0)\n",
      "Requirement already satisfied: cycler>=0.10 in c:\\users\\nribeiro\\anaconda3\\lib\\site-packages (from matplotlib>=3.4->cartopy) (0.11.0)\n",
      "Requirement already satisfied: pillow>=6.2.0 in c:\\users\\nribeiro\\anaconda3\\lib\\site-packages (from matplotlib>=3.4->cartopy) (9.0.1)\n",
      "Requirement already satisfied: python-dateutil>=2.7 in c:\\users\\nribeiro\\anaconda3\\lib\\site-packages (from matplotlib>=3.4->cartopy) (2.8.2)\n",
      "Requirement already satisfied: kiwisolver>=1.0.1 in c:\\users\\nribeiro\\anaconda3\\lib\\site-packages (from matplotlib>=3.4->cartopy) (1.3.2)\n",
      "Requirement already satisfied: certifi in c:\\users\\nribeiro\\anaconda3\\lib\\site-packages (from pyproj>=3.1.0->cartopy) (2022.6.15)\n",
      "Requirement already satisfied: six>=1.5 in c:\\users\\nribeiro\\anaconda3\\lib\\site-packages (from python-dateutil>=2.7->matplotlib>=3.4->cartopy) (1.16.0)\n",
      "Installing collected packages: pyshp, cartopy\n",
      "Successfully installed cartopy-0.22.0 pyshp-2.3.1\n",
>>>>>>> 84c9136a382605743be1ead127367dc399c5419c
      "Note: you may need to restart the kernel to use updated packages.\n"
     ]
    }
   ],
   "source": [
    "pip install cartopy"
   ]
  },
  {
   "cell_type": "code",
<<<<<<< HEAD
   "execution_count": 4,
=======
   "execution_count": 7,
>>>>>>> 84c9136a382605743be1ead127367dc399c5419c
   "id": "638a67bc-d239-453f-ad14-e89a80171ee6",
   "metadata": {
    "tags": []
   },
   "outputs": [],
   "source": [
    "import matplotlib.pyplot as plt\n",
    "import pandas as pd\n",
    "import geopandas as gpd\n",
    "#import cartopy\n",
    "\n",
    "#from matplotlib import colormaps as cmaps\n",
    "# Mapping\n",
    "import cartopy.crs as ccrs\n",
    "import cartopy.feature as cf\n",
    "import matplotlib.patches as mpatches\n",
    "import matplotlib.lines as mlines\n",
    "\n",
    "# lat/long formaters - if starts with captial letter is an object in python\n",
    "from cartopy.mpl.ticker import LongitudeFormatter, LatitudeFormatter"
   ]
  },
  {
   "cell_type": "markdown",
   "id": "607ac95d-242d-40d7-a3b2-3c1f4b4e5c73",
   "metadata": {},
   "source": [
    "## Make table with mooring coordinates \n",
    "Coordinates taken from this [technical report](https://imos.org.au/fileadmin/user_upload/shared/ANMN/SA_Moorings/06c._Southern_Australia_Moorings_-_TS.pdf)."
   ]
  },
  {
   "cell_type": "code",
<<<<<<< HEAD
   "execution_count": 5,
=======
   "execution_count": 8,
>>>>>>> 84c9136a382605743be1ead127367dc399c5419c
   "id": "29bc3e04-a0a1-43d5-b4a8-6b9d0cd869fa",
   "metadata": {
    "tags": []
   },
   "outputs": [
    {
     "data": {
      "text/html": [
       "<div>\n",
       "<style scoped>\n",
       "    .dataframe tbody tr th:only-of-type {\n",
       "        vertical-align: middle;\n",
       "    }\n",
       "\n",
       "    .dataframe tbody tr th {\n",
       "        vertical-align: top;\n",
       "    }\n",
       "\n",
       "    .dataframe thead th {\n",
       "        text-align: right;\n",
       "    }\n",
       "</style>\n",
       "<table border=\"1\" class=\"dataframe\">\n",
       "  <thead>\n",
       "    <tr style=\"text-align: right;\">\n",
       "      <th></th>\n",
       "      <th>site</th>\n",
       "      <th>lat</th>\n",
       "      <th>long</th>\n",
       "      <th>nominal depth</th>\n",
       "      <th>status</th>\n",
       "      <th>geometry</th>\n",
       "    </tr>\n",
       "  </thead>\n",
       "  <tbody>\n",
       "    <tr>\n",
       "      <th>0</th>\n",
       "      <td>NRSKAI</td>\n",
       "      <td>-35.83593</td>\n",
       "      <td>136.44771</td>\n",
       "      <td>110</td>\n",
       "      <td>Current</td>\n",
       "      <td>POINT (136.44771 -35.83593)</td>\n",
       "    </tr>\n",
       "    <tr>\n",
       "      <th>1</th>\n",
       "      <td>SAM1DS</td>\n",
       "      <td>-36.51610</td>\n",
       "      <td>136.24320</td>\n",
       "      <td>500</td>\n",
       "      <td>Discontinued</td>\n",
       "      <td>POINT (136.24320 -36.51610)</td>\n",
       "    </tr>\n",
       "    <tr>\n",
       "      <th>2</th>\n",
       "      <td>SAM2CP</td>\n",
       "      <td>-35.26925</td>\n",
       "      <td>135.68682</td>\n",
       "      <td>100</td>\n",
       "      <td>Discontinued</td>\n",
       "      <td>POINT (135.68682 -35.26925)</td>\n",
       "    </tr>\n",
       "    <tr>\n",
       "      <th>3</th>\n",
       "      <td>SAM3MS</td>\n",
       "      <td>-36.14590</td>\n",
       "      <td>135.90400</td>\n",
       "      <td>170</td>\n",
       "      <td>Discontinued</td>\n",
       "      <td>POINT (135.90400 -36.14590)</td>\n",
       "    </tr>\n",
       "    <tr>\n",
       "      <th>4</th>\n",
       "      <td>SAM4CY</td>\n",
       "      <td>-36.51990</td>\n",
       "      <td>136.85502</td>\n",
       "      <td>120</td>\n",
       "      <td>Discontinued</td>\n",
       "      <td>POINT (136.85502 -36.51990)</td>\n",
       "    </tr>\n",
       "    <tr>\n",
       "      <th>5</th>\n",
       "      <td>SAM5CB</td>\n",
       "      <td>-34.92750</td>\n",
       "      <td>135.00980</td>\n",
       "      <td>95</td>\n",
       "      <td>Current</td>\n",
       "      <td>POINT (135.00980 -34.92750)</td>\n",
       "    </tr>\n",
       "    <tr>\n",
       "      <th>6</th>\n",
       "      <td>SAM6IS</td>\n",
       "      <td>-35.50020</td>\n",
       "      <td>136.59980</td>\n",
       "      <td>85</td>\n",
       "      <td>Discontinued</td>\n",
       "      <td>POINT (136.59980 -35.50020)</td>\n",
       "    </tr>\n",
       "    <tr>\n",
       "      <th>7</th>\n",
       "      <td>SAM7DS</td>\n",
       "      <td>-36.18090</td>\n",
       "      <td>135.84390</td>\n",
       "      <td>100</td>\n",
       "      <td>Discontinued</td>\n",
       "      <td>POINT (135.84390 -36.18090)</td>\n",
       "    </tr>\n",
       "    <tr>\n",
       "      <th>8</th>\n",
       "      <td>SAM8SG</td>\n",
       "      <td>-35.25000</td>\n",
       "      <td>136.69400</td>\n",
       "      <td>50</td>\n",
       "      <td>Current</td>\n",
       "      <td>POINT (136.69400 -35.25000)</td>\n",
       "    </tr>\n",
       "  </tbody>\n",
       "</table>\n",
       "</div>"
      ],
      "text/plain": [
       "     site       lat       long  nominal depth        status  \\\n",
       "0  NRSKAI -35.83593  136.44771            110       Current   \n",
       "1  SAM1DS -36.51610  136.24320            500  Discontinued   \n",
       "2  SAM2CP -35.26925  135.68682            100  Discontinued   \n",
       "3  SAM3MS -36.14590  135.90400            170  Discontinued   \n",
       "4  SAM4CY -36.51990  136.85502            120  Discontinued   \n",
       "5  SAM5CB -34.92750  135.00980             95       Current   \n",
       "6  SAM6IS -35.50020  136.59980             85  Discontinued   \n",
       "7  SAM7DS -36.18090  135.84390            100  Discontinued   \n",
       "8  SAM8SG -35.25000  136.69400             50       Current   \n",
       "\n",
       "                      geometry  \n",
       "0  POINT (136.44771 -35.83593)  \n",
       "1  POINT (136.24320 -36.51610)  \n",
       "2  POINT (135.68682 -35.26925)  \n",
       "3  POINT (135.90400 -36.14590)  \n",
       "4  POINT (136.85502 -36.51990)  \n",
       "5  POINT (135.00980 -34.92750)  \n",
       "6  POINT (136.59980 -35.50020)  \n",
       "7  POINT (135.84390 -36.18090)  \n",
       "8  POINT (136.69400 -35.25000)  "
      ]
     },
<<<<<<< HEAD
     "execution_count": 5,
=======
     "execution_count": 8,
>>>>>>> 84c9136a382605743be1ead127367dc399c5419c
     "metadata": {},
     "output_type": "execute_result"
    }
   ],
   "source": [
    "# create dataframe with coordinates\n",
    "site = ['NRSKAI','SAM1DS', 'SAM2CP', 'SAM3MS', 'SAM4CY', 'SAM5CB', 'SAM6IS', 'SAM7DS', 'SAM8SG']\n",
    "lat = [-35.83593, -36.5161, -35.26925, -36.1459, -36.5199, -34.9275, -35.5002, -36.1809, -35.25]\n",
    "long = [136.44771, 136.2432, 135.68682, 135.904, 136.85502, 135.0098, 136.5998, 135.8439, 136.694]\n",
    "nom_depth = [110, 500, 100, 170, 120, 95, 85, 100, 50]\n",
    "status = ['Current', 'Discontinued', 'Discontinued', 'Discontinued', 'Discontinued', 'Current', 'Discontinued', 'Discontinued', 'Current']\n",
    "\n",
    "df = pd.DataFrame({\"site\":site, \"lat\":lat, \"long\":long, \"nominal depth\":nom_depth, \"status\":status})\n",
    "df\n",
    "\n",
    "# turn into geodataframe\n",
    "gdf = gpd.GeoDataFrame(df, geometry = gpd.points_from_xy(df.long, df.lat, crs=\"EPSG:4326\"))\n",
    "gdf"
   ]
  },
  {
   "cell_type": "code",
<<<<<<< HEAD
   "execution_count": 6,
=======
   "execution_count": 9,
>>>>>>> 84c9136a382605743be1ead127367dc399c5419c
   "id": "523f4c26-4ae8-4151-8a7b-50cd4c614ef4",
   "metadata": {},
   "outputs": [
    {
     "data": {
      "text/plain": [
       "<AxesSubplot:>"
      ]
     },
<<<<<<< HEAD
     "execution_count": 6,
=======
     "execution_count": 9,
>>>>>>> 84c9136a382605743be1ead127367dc399c5419c
     "metadata": {},
     "output_type": "execute_result"
    },
    {
     "data": {
      "image/png": "iVBORw0KGgoAAAANSUhEUgAAAQAAAAD4CAYAAAADxDimAAAAOXRFWHRTb2Z0d2FyZQBNYXRwbG90bGliIHZlcnNpb24zLjUuMSwgaHR0cHM6Ly9tYXRwbG90bGliLm9yZy/YYfK9AAAACXBIWXMAAAsTAAALEwEAmpwYAAAQlklEQVR4nO3dX4xj9XnG8e+zsAU5FRNggUJhbEiXXITdUhi4qEJoMgmKquxCinLlqtsGOiJSmpIKEZBbCEWuKLTNXuSCTlMklJiqUWkDG4hgM21pK0HbXWB3IKJBpHj4s+E/w8WkZIG3F3MWPLP2rD3HM8f27/lIIx//fM7xe/bIzx4f2+dVRGBmadpQdAFmVhwHgFnCHABmCXMAmCXMAWCWsKOLLmA1Nm3aFJVKpegyzIbG3r17X42Ik5aPD2UAVCoV9uzZU3QZZkNDUrPduN8CmCXMAWCWMAeAWcIcAGYJcwCYJWzkAqAx26Cys8KGmzZQ2VmhMdsouiSzgTWUHwN20phtMLVrioWDCwA055tM7ZoCoLqlWmRpZgNppI4AajO191/8hywcXKA2UyuoIrPBNlIBMDc/19O4WepGKgDGx8Z7GjdL3UgFQH2yTmljaclYaWOJ+mS9oIrMBttIBUB1S5XpbdOUx8oIUR4rM71t2icAzTrQMF4TcGJiIvxjILPuSdobERPLx0fqCMDMepMrACTdLGm/pMclPSjptGy8Iuln2fjjkm7vsPwJknZLejq7PT5PPWbWm7xHALdFxNaIOBf4PnBDy2PPRMS52d9VHZa/DpiJiM3ATHbfzNZJrgCIiLda7n4I6PWEwqXAndn0ncBleeoxs97kPgcgqS7pOaDK0iOAMyU9JukhSRd1WPyUiDgAkN2evMLzTEnaI2nPK6+8krdsM6OLTwEk/RD4pTYP1SLinpb5rgeOjYgbJR0D/GJEvCbpfOB7wMeWHTEg6c2I+HDL/Tci4ojnAfwpgFlvOn0KcMQfA0XEp7t8jruA+4AbI+Jt4O1s+b2SngHOBpa/al+SdGpEHJB0KvByl89lZn2Q91OAzS13twNPZeMnSToqmz4L2Az8pM0q7gV2ZNM7gHvazGNmayTvz4FvkfRR4D2gCRw62/8J4E8lvQO8C1wVEa8DSPoWcHtE7AFuAb4r6QpgDvhCznrMrAf+JqBZAvxNQDM7jAPALGEOALOEOQDMEuYAMEuYA8AsYQ4As4Q5AMwS5gAwS5gDwCxhDgCzhDkAzBLmADBLmAPALGEOALOEOQDMElZ0Y5DbJD2VreOfJH04Tz1m1puiG4PsBs6JiK3Aj4Hrc9ZjZj0otDFIRDwYEe9kdx8BTs9Tj5n1pujGIK2+CPxghedxYxCzPiu0MUjLsjVgAvit6OIqpb4oqFlvBrUxCJJ2AJ8DJrt58ZtZ/xTaGETSZ4GvAdsjYiFPLWbDpDHboLKzwoabNlDZWaEx2yikjqIbg3wTOAbYLQngkRU+MTAbCY3ZBlO7plg4uPh/XnO+ydSuKQCqW6rrWosbg5its8rOCs355mHj5bEyz1797Jo8pxuDJGpQDjXtA3Pzcz2NryUHwAg7dKjZnG8SxPuHmg6BYo2Pjfc0vpYcACOsNlN7/33mIQsHF6jN1AqqyADqk3VKG0tLxkobS9Qn6+teiwNghA3SoaZ9oLqlyvS2acpjZYQoj5WZ3ja97icAIf+nADbAxsfG255sKuJQ05aqbqkW8oJfzkcAI2yQDjVtMDkARtggHWraYPL3AMwS4O8BmNlhHABmCXMAmCXMAWCWMAeAWcIcAGYJcwCYJcwBYJawQhuDtKznGkkhaVOeesysN0U3BkHSGcBnAP9EzWydFdoYJPMN4NpVLmtmORTaGETSduCFiNjXxfO4MYhZnxXWGERSCfgX4JKImJf0LDAREa8eqWj/GMisN4PYGOQjwJnAvuyS4KcDj0q6MCJ+2uVzmlkOua4IJGlzRDyd3V3SGAR4PSLe7dQYJCJmgZNb1vUsXR4BmFl/FN0YxMwKlCsAIuLyDuN3A3d3eOzKDuOVPLWYWe/8TUCzhDkAzBLmADBLmAPArI+GrRejG4OY9ckgtf3ulo8AzPpkGHsxOgDM+mQYezE6AMz6ZJDafnfLAWDWJ8PYi9EBYNYnw9iL0b0BzRLg3oBmdhgHgFnCHABmCXMAmCXMAWCWsMIbg0j6A0n/I+lJSbfmqcfMepP3x0C3RcSfAEj6CouXBT90WbBnsoYhHUn6JHApsDUi3pZ08krzm1l/Fd0Y5EvALdlVhImIl/PUY2a9KbQxCIuXCr9I0n9m812wwvO4MYhZnxXWGCRb5gngn4E/BC4A/h44K45QlL8JaNabQWwMAvA88I/ZC/6/JL0HbAL8X7zZOsj7KcDmlrtLGoNIOiqbbtsYJPM94FPZfGcDvwC4MYjZOim6McgdwB3ZW4GfAzuOdPhvZv3jXwOaJcC/BjSzwzgAzBLmADBLmAPALGEOALOEOQDMEuYAMEuYA8AsYQ4As4Q5AMwS5gAwS5gDwCxhDgCzhDkAzBLmADBLWKF9ASSdK+mRbJ49ki7MU4+Z9SbvEcBtEbE1u/7/91l6VeBnIuLc7O+q9otzK3BTtvwN2X0zWydF9wUI4Lhsegx4MU89ZtabvNcERFId+B1gHvhky0NnSnoMeAv444j49zaLXw08IOkvWAyjX89bj5l174hHAJJ+KOmJNn+XAkRELSLOABrAl7PFDgDjEfFrwB8Bd0k6rs3qvwR8NVv+q8DfrlCHG4OY9VnfLgoqqQzcFxHntHnsX4FrsisBt47PAx+OiJAkYD4i2gXFEr4oqK2lxmyD2kyNufk5xsfGqU/WqW6pFl1WLmtyUdA+9AV4Ebg4m/4U8HSeeszyasw2mNo1RXO+SRA055tM7ZqiMdsourQ1kfdTgFuytwP7gUtYbPEFi30B9kvaB/wDy/oCSDqURL8P/GU2358BUznrMculNlNj4eDCkrGFgwvUZmoFVbS2cp0EjIjLO4zfDdzd4bErW6b/Azg/Tw1m/TQ3P9fT+LDzNwHNWoyPjfc0PuwcAGYt6pN1ShtLS8ZKG0vUJ+sFVbS2HABmLapbqkxvm6Y8VkaI8liZ6W3TQ/8pQCfuDWiWAPcGNLPDOADMEuYAMEuYA8AsYQ4As4Q5AMwS5gAwS5gDwCxhDgCzhDkAzBLmADBLmAPALGFr0hgke2yrpIclPSlpVtKxbZY/QdJuSU9nt8fnqcfMerMmjUEkHQ18h8VLgX0M+A3gYJvlrwNmImIzMJPdN7N1slaNQS4B9kfEvmy+1yLi3TaruBS4M5u+E7gsTz1m1pvc5wAk1SU9B1T5oDXY2UBIekDSo5Ku7bD4KRFxACC7PXmF53FfALM+W6vGIEcDH2cxFD4OfF7SZJ5CI2I6IiYiYuKkk07KsyozyxzxqsAR8eku13UXcB9wI/A88FBEvAog6X7gPBbf57d6SdKpEXFA0qnAy11Xbma5rUljEOABYKukUnZC8GLgR21WcS+wI5veAdyTpx4z603e5qC3SPoo8B7QBK4CiIg3JP0V8N8snhi8PyLug8XGIMDtWZuwW4DvSroCmAO+kLMeM+uBLwpqlgBfFNTMDuMAMEuYA8AsYQ4As4Q5AMwS5gAwS5gDwCxhDgCzhDkAzBLmALBVacw2qOyssOGmDVR2VmjMNoouyVYh728BLEGN2QZTu6ZYOLgAQHO+ydSuKQCqW6pFlmY98hGA9aw2U3v/xX/IwsEFajO1giqy1XIAWM/m5ud6GrfB5QCwno2Pjfc0boPLAWAraneyrz5Zp7SxtGS+0sYS9cl6QVXaajkArKNDJ/ua802CWHKyb3rbNOWxMkKUx8pMb5v2CcAhlOuCIJJuZvHS3u+xeD2/342IF7PHtgJ/DRyXPX5BRPzfsuVvA7YBPweeAX4vIt480vP6giDro7KzQnO+edh4eazMs1c/u/4F2aqt1QVB8jYG2Q2cExFbgR8D1+esx/rIJ/tGX6GNQSLiwYh4J7v7CHB6nnqsv3yyb/QV3Rik1ReBH6zwPG4Mss58sm/0DURjEEk14J1sHW25Mcj6q26p+mTfiCu6MQiSdgCfAyZjGC9RPOKqW6p+wY+wQhuDSPos8DVge0QsLH/czNZW0Y1BvgkcA+yWBPBIRFyVsyYz61KuAIiIy1d47DssfhS4fPzKlulfyfP8ZpaPvwloljAHgFnCHABmCXMAmCXMAWCWMAeAWcIcAGYJcwCYJcwBYJYwB4BZwhwAZglzAJglzAFgljAHgFnCHABmCXMAmCUs7yXBbpa0X9Ljkh6UdFrLY1slPSzpSUmzko5dYT3XSApJm/LUY2a9KboxCJLOAD4DuNuE2TortDFI5hvAtS3Lmtk6KbQxiKTtwAuHguIIz+PGIGZ9VlhjEEkloMYHobEiNwYx678iG4N8BDgT2JddEvx04FFJF0bET7veAjNbtcIag0TEbEScHBGViKiwGBrn+cVvtn6KbgxiZgUqtDHIsvFKnlrMrHf+JqBZwhwAZglzAJglzAFgljAHgFnCHAA29BqzDSo7K2y4aQOVnRUas42iSxoaDgAbao3ZBlO7pmjONwmC5nyTqV1TIx8C/Qo9B4ANtdpMjYWDC0vGFg4uUJupFVTR2utn6DkAbKjNzbe/jESn8VHQz9BzANhQGx8b72l8FPQz9BwANtTqk3VKG0tLxkobS9Qn6wVVtPb6GXoOABtq1S1VprdNUx4rI0R5rMz0tmmqW6pFl7Zm+hl6ihi+K3FNTEzEnj3+MaGlqzHboDZTY25+jvGxceqT9RVDT9LeiJg4bNwBYDb6OgWA3wKYJcwBYJYwB4BZwhwAZglzAJglbCg/BZD0CosXIe1kE/DqOpWz1kZlW7wdxSpHxGENNYYyAI5E0p52H3kMo1HZFm/HYPJbALOEOQDMEjaqATBddAF9NCrb4u0YQCN5DsDMujOqRwBm1gUHgFnCBj4AJN0h6WVJT7SM3Sxpv6THJT0o6bRsvCLpZ9n445Ju77DOEyTtlvR0dnv8kG7H1yW90DLfb671dvS6LdljWyU9LOlJSbOSjm2zzoHeJz1sRyH7ZNUiYqD/gE8A5wFPtIwd1zL9FRa7DQNUWudbYZ23Atdl09cBfz6k2/F14JoB3ydHA/uBX83unwgcNYT7pNvtKGSfrPZv4I8AIuLfgNeXjb3VcvdDLLYg78WlwJ3Z9J3AZautr1trtB2F6HFbLgH2R8S+bL7XIuLdNqsd9H3S7XYMlYEPgE4k1SU9B1SBG1oeOlPSY5IeknRRh8VPiYgDANntyWtcbkc5twPgy9kh6x3rcdi8kg7bcjYQkh6Q9KikazssPuj7pNvtgAHaJ0dU9CFIl4dqFTocEgPXAzdl08cAJ2bT5wPP0XJI17LMm8vuvzGk23EKcBSLQV4H7hjAfXIN8L8sfoe+BDwMTA7hPul2OwrbJ6v5G9ojgBZ3AZcDRMTbEfFaNr0XeIbF5F7uJUmnAmS3L69TrSvpeTsi4qWIeDci3gP+BrhwHetdyfvbAjwPPBQRr0bEAnA/i++7lxvofUKX2zHA+6StoQwASZtb7m4HnsrGT5J0VDZ9FrAZ+EmbVdwL7MimdwD3rF21neXdjkMvmMzngSeWz7NeOm0L8ACwVVJJ0tHAxcCP2qxioPcJXW7HIO2TrhR9CNLFIdrfAQeAgyym8BXA3Sz+w+4HdgG/nM17OfAksA94FNjWsp5vARPZ9InADPB0dnvCkG7Ht4HZbPl7gVMHbZ9k8/92tj1PALcO4z7pYTsK2Ser/fNXgc0SNpRvAcysPxwAZglzAJglzAFgljAHgFnCHABmCXMAmCXs/wEkCujAKiUFmgAAAABJRU5ErkJggg==\n",
      "text/plain": [
       "<Figure size 432x288 with 1 Axes>"
      ]
     },
     "metadata": {
      "needs_background": "light"
     },
     "output_type": "display_data"
    }
   ],
   "source": [
    "gdf.plot(color = \"green\") # initial plot"
   ]
  },
  {
   "cell_type": "code",
<<<<<<< HEAD
   "execution_count": 7,
=======
   "execution_count": 10,
>>>>>>> 84c9136a382605743be1ead127367dc399c5419c
   "id": "8189b465-f961-4b1b-8d9c-cc0d56a76a6d",
   "metadata": {
    "tags": []
   },
   "outputs": [
    {
     "data": {
      "text/html": [
       "<div>\n",
       "<style scoped>\n",
       "    .dataframe tbody tr th:only-of-type {\n",
       "        vertical-align: middle;\n",
       "    }\n",
       "\n",
       "    .dataframe tbody tr th {\n",
       "        vertical-align: top;\n",
       "    }\n",
       "\n",
       "    .dataframe thead th {\n",
       "        text-align: right;\n",
       "    }\n",
       "</style>\n",
       "<table border=\"1\" class=\"dataframe\">\n",
       "  <thead>\n",
       "    <tr style=\"text-align: right;\">\n",
       "      <th></th>\n",
       "      <th>site</th>\n",
       "      <th>lat</th>\n",
       "      <th>long</th>\n",
       "      <th>nominal depth</th>\n",
       "      <th>status</th>\n",
       "      <th>geometry</th>\n",
       "    </tr>\n",
       "  </thead>\n",
       "  <tbody>\n",
       "    <tr>\n",
       "      <th>0</th>\n",
       "      <td>NRSKAI</td>\n",
       "      <td>-35.83593</td>\n",
       "      <td>136.44771</td>\n",
       "      <td>110</td>\n",
       "      <td>Current</td>\n",
       "      <td>POINT (136.44771 -35.83593)</td>\n",
       "    </tr>\n",
       "    <tr>\n",
       "      <th>1</th>\n",
       "      <td>SAM1DS</td>\n",
       "      <td>-36.75000</td>\n",
       "      <td>135.80000</td>\n",
       "      <td>500</td>\n",
       "      <td>Discontinued</td>\n",
       "      <td>POINT (136.24320 -36.51610)</td>\n",
       "    </tr>\n",
       "    <tr>\n",
       "      <th>2</th>\n",
       "      <td>SAM2CP</td>\n",
       "      <td>-35.26925</td>\n",
       "      <td>135.68682</td>\n",
       "      <td>100</td>\n",
       "      <td>Discontinued</td>\n",
       "      <td>POINT (135.68682 -35.26925)</td>\n",
       "    </tr>\n",
       "    <tr>\n",
       "      <th>3</th>\n",
       "      <td>SAM3MS</td>\n",
       "      <td>-36.14590</td>\n",
       "      <td>135.90400</td>\n",
       "      <td>170</td>\n",
       "      <td>Discontinued</td>\n",
       "      <td>POINT (135.90400 -36.14590)</td>\n",
       "    </tr>\n",
       "    <tr>\n",
       "      <th>4</th>\n",
       "      <td>SAM4CY</td>\n",
       "      <td>-36.51990</td>\n",
       "      <td>136.85502</td>\n",
       "      <td>120</td>\n",
       "      <td>Discontinued</td>\n",
       "      <td>POINT (136.85502 -36.51990)</td>\n",
       "    </tr>\n",
       "    <tr>\n",
       "      <th>5</th>\n",
       "      <td>SAM5CB</td>\n",
       "      <td>-34.92750</td>\n",
       "      <td>135.00980</td>\n",
       "      <td>95</td>\n",
       "      <td>Current</td>\n",
       "      <td>POINT (135.00980 -34.92750)</td>\n",
       "    </tr>\n",
       "    <tr>\n",
       "      <th>6</th>\n",
       "      <td>SAM6IS</td>\n",
       "      <td>-35.50020</td>\n",
       "      <td>136.59980</td>\n",
       "      <td>85</td>\n",
       "      <td>Discontinued</td>\n",
       "      <td>POINT (136.59980 -35.50020)</td>\n",
       "    </tr>\n",
       "    <tr>\n",
       "      <th>7</th>\n",
       "      <td>SAM7DS</td>\n",
       "      <td>-36.40000</td>\n",
       "      <td>135.84390</td>\n",
       "      <td>100</td>\n",
       "      <td>Discontinued</td>\n",
       "      <td>POINT (135.84390 -36.18090)</td>\n",
       "    </tr>\n",
       "    <tr>\n",
       "      <th>8</th>\n",
       "      <td>SAM8SG</td>\n",
       "      <td>-35.25000</td>\n",
       "      <td>136.69400</td>\n",
       "      <td>50</td>\n",
       "      <td>Current</td>\n",
       "      <td>POINT (136.69400 -35.25000)</td>\n",
       "    </tr>\n",
       "  </tbody>\n",
       "</table>\n",
       "</div>"
      ],
      "text/plain": [
       "     site       lat       long  nominal depth        status  \\\n",
       "0  NRSKAI -35.83593  136.44771            110       Current   \n",
       "1  SAM1DS -36.75000  135.80000            500  Discontinued   \n",
       "2  SAM2CP -35.26925  135.68682            100  Discontinued   \n",
       "3  SAM3MS -36.14590  135.90400            170  Discontinued   \n",
       "4  SAM4CY -36.51990  136.85502            120  Discontinued   \n",
       "5  SAM5CB -34.92750  135.00980             95       Current   \n",
       "6  SAM6IS -35.50020  136.59980             85  Discontinued   \n",
       "7  SAM7DS -36.40000  135.84390            100  Discontinued   \n",
       "8  SAM8SG -35.25000  136.69400             50       Current   \n",
       "\n",
       "                      geometry  \n",
       "0  POINT (136.44771 -35.83593)  \n",
       "1  POINT (136.24320 -36.51610)  \n",
       "2  POINT (135.68682 -35.26925)  \n",
       "3  POINT (135.90400 -36.14590)  \n",
       "4  POINT (136.85502 -36.51990)  \n",
       "5  POINT (135.00980 -34.92750)  \n",
       "6  POINT (136.59980 -35.50020)  \n",
       "7  POINT (135.84390 -36.18090)  \n",
       "8  POINT (136.69400 -35.25000)  "
      ]
     },
<<<<<<< HEAD
     "execution_count": 7,
=======
     "execution_count": 10,
>>>>>>> 84c9136a382605743be1ead127367dc399c5419c
     "metadata": {},
     "output_type": "execute_result"
    }
   ],
   "source": [
    "# adjust lat/long columns to prevent overlapping labels for map\n",
    "gdf_lab = gdf\n",
    "gdf_lab\n",
    "gdf_lab.iloc[7,1] = -36.4\n",
    "gdf_lab.iloc[1,1] = -36.75\n",
    "gdf_lab.iloc[1,2] = 135.8\n",
    "gdf_lab"
   ]
  },
  {
   "cell_type": "code",
<<<<<<< HEAD
   "execution_count": 9,
=======
   "execution_count": 18,
>>>>>>> 84c9136a382605743be1ead127367dc399c5419c
   "id": "10637513-b527-458a-9491-7443e8044b19",
   "metadata": {},
   "outputs": [
    {
     "data": {
<<<<<<< HEAD
      "image/png": "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\n",
=======
      "image/png": "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\n",
>>>>>>> 84c9136a382605743be1ead127367dc399c5419c
      "text/plain": [
       "<Figure size 504x504 with 1 Axes>"
      ]
     },
     "metadata": {
      "needs_background": "light"
     },
     "output_type": "display_data"
    }
   ],
   "source": [
    "# Initialise the figure\n",
    "fig = plt.figure(figsize=(7, 7)) \n",
    "ax = plt.axes(projection = ccrs.PlateCarree())\n",
    "ax.set_xlim(134.5, 139)\n",
    "ax.set_ylim(-37, -33.5)\n",
    "ax.add_feature(cf.LAND)\n",
    "ax.add_feature(cf.OCEAN)\n",
    "ax.coastlines()\n",
    "\n",
    "# star marker for national reference station kangaroo island\n",
    "gdf[gdf.site == 'NRSKAI'].plot(ax = ax, \n",
    "                                color = 'red', \n",
    "                                marker = \"*\", \n",
    "                                markersize = 80,\n",
    "                                legend = True,\n",
    "                                label = \"NRS\")\n",
    "# plot current sites as red\n",
    "current = gdf[(gdf.site == 'SAM5CB') | (gdf.site == 'SAM8SG')].plot(ax = ax, color = 'red', markersize = 40)\n",
    "# discontinued sites as blue\n",
    "discontinued = gdf[(gdf.site != 'SAM5CB') & (gdf.site != 'SAM8SG') & (gdf.site != 'NRSKAI')].plot(ax=ax, markersize = 30)\n",
    "\n",
    "red_dot= mlines.Line2D([], [], color='red', marker='o', linestyle='None',\n",
    "                          markersize=10, label='Current')\n",
    "red_star = mlines.Line2D([], [], color='red', marker='*', linestyle='None',\n",
    "                          markersize=10, label='National\\nReference\\nStation')\n",
    "blue_dot = mlines.Line2D([], [], color='blue', marker='o', linestyle='None',\n",
    "                          markersize=10, label='Discontinued')\n",
    "ax.legend(handles=[red_dot, red_star, blue_dot])\n",
    "\n",
    "# add the lat/long tick marks on axes\n",
    "# gca is get current axis to manaually set the tick values\n",
    "plt.gca().set_yticks([-37, -36, -35, -34], crs=ccrs.PlateCarree()) #gca = get current axis\n",
    "plt.gca().set_xticks([135, 136, 137, 138, 139], crs=ccrs.PlateCarree())\n",
    "\n",
    "# formatter to have degrees N/S for lat/long\n",
    "lon_formatter = LongitudeFormatter(zero_direction_label=True)\n",
    "lat_formatter = LatitudeFormatter()\n",
    "ax.xaxis.set_major_formatter(lon_formatter)\n",
    "ax.yaxis.set_major_formatter(lat_formatter)\n",
    "\n",
    "# Set plot title and labels\n",
    "plt.title('IMOS South Australia Moorings',fontsize=12)\n",
    "#plt.xlabel('Longitude')\n",
    "#plt.ylabel('Latitude')\n",
    "\n",
    "# label sites with adjusted lat long\n",
    "for x, y, label in zip(gdf.long, gdf.lat, gdf.site):\n",
    "    ax.annotate(label, xy=(x, y), xytext=(3, 4), textcoords=\"offset points\")\n",
    "    \n",
    "plt.rcParams['figure.dpi'] = 600    \n",
    "plt.gcf().savefig(\"../Figures/map_SAmooring.png\") # save figure"
   ]
  },
  {
   "cell_type": "code",
   "execution_count": null,
   "id": "0ca0f988-47d8-43ad-9615-821e32ba41b8",
   "metadata": {},
   "outputs": [],
   "source": []
  }
 ],
 "metadata": {
  "kernelspec": {
   "display_name": "Python 3 (ipykernel)",
   "language": "python",
   "name": "python3"
  },
  "language_info": {
   "codemirror_mode": {
    "name": "ipython",
    "version": 3
   },
   "file_extension": ".py",
   "mimetype": "text/x-python",
   "name": "python",
   "nbconvert_exporter": "python",
   "pygments_lexer": "ipython3",
   "version": "3.9.12"
  }
 },
 "nbformat": 4,
 "nbformat_minor": 5
}
