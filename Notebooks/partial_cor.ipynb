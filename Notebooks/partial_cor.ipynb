{
 "cells": [
  {
   "cell_type": "markdown",
   "id": "87dc8dbc-fadc-4179-8cab-8e8281b3550e",
   "metadata": {
    "tags": []
   },
   "source": [
    "### Code to calculate the partial correlation of temperature with ENSO, IOD and SAM indices "
   ]
  },
  {
   "cell_type": "markdown",
   "id": "495f7dff-2ef0-4cf8-a42a-ec290fd0be9f",
   "metadata": {},
   "source": [
    "This code used data from the moored location'NRSKAI', calculates the monthly temperature anomalies, calculates the Pearson r correlation, and the partial correlation"
   ]
  },
  {
   "cell_type": "code",
   "execution_count": 1,
   "id": "6e3e06e5-f2ba-4180-93e1-863265c99a43",
   "metadata": {
    "tags": []
   },
   "outputs": [],
   "source": [
    "import sys\n",
    "import pandas as pd\n",
    "sys.path.insert(0, \"../sa_upwelling\")   # Allows using the files in the Python package\n",
    "import utils\n",
    "\n",
    "from matplotlib import pyplot as plt\n",
    "#import pingouin as pg\n",
    "from scipy.stats import pearsonr\n",
    "import numpy as np"
   ]
  },
  {
   "cell_type": "code",
   "execution_count": 2,
   "id": "d578824d-db6b-487c-ba08-7a284b4fb367",
   "metadata": {
    "tags": []
   },
   "outputs": [
    {
     "name": "stdout",
     "output_type": "stream",
     "text": [
      "Loading local hourly-timeseries data for mooring 'NRSKAI'.\n",
      "Loading local hourly-timeseries data for mooring 'SAM8SG'.\n",
      "Loading local hourly-timeseries data for mooring 'SAM5CB'.\n",
      "Loading local hourly-timeseries data for mooring 'SAM2CP'.\n",
      "Loading local hourly-timeseries data for mooring 'SAM6IS'.\n",
      "Loading local hourly-timeseries data for mooring 'SAM3MS'.\n",
      "Loading local hourly-timeseries data for mooring 'SAM7DS'.\n"
     ]
    }
   ],
   "source": [
    "hourly_files, hourly_datasets = utils.load_data_products()"
   ]
  },
  {
   "cell_type": "code",
   "execution_count": 3,
   "id": "7029556f-25ba-4d8f-80ed-3994faa6be9e",
   "metadata": {
    "tags": []
   },
   "outputs": [
    {
     "name": "stdout",
     "output_type": "stream",
     "text": [
      "Saved timeseries to ../Datasets/NRSKAI_TEMP_101-111m.csv\n",
      "Saved timeseries to ../Datasets/SAM8SG_TEMP_38-48m.csv\n",
      "Saved timeseries to ../Datasets/SAM5CB_TEMP_90-100m.csv\n",
      "Saved timeseries to ../Datasets/SAM2CP_TEMP_90-100m.csv\n",
      "Saved timeseries to ../Datasets/SAM6IS_TEMP_73-83m.csv\n",
      "Saved timeseries to ../Datasets/SAM3MS_TEMP_158-168m.csv\n",
      "Saved timeseries to ../Datasets/SAM7DS_TEMP_512-522m.csv\n"
     ]
    }
   ],
   "source": [
    "# Run the extraction function for all sites, saving to CSV and storing the\n",
    "# timeseries DataFrames in a local variable for subsequent use\n",
    "\n",
    "temp_timeseries = dict()\n",
    "for mooring in hourly_datasets.keys():\n",
    "    ds = hourly_datasets[mooring]\n",
    "    df = utils.extract_timeseries_df(ds, save=True)\n",
    "    temp_timeseries[mooring] = df"
   ]
  },
  {
   "cell_type": "code",
   "execution_count": 4,
   "id": "d9042ab3-cb29-43f3-9447-af7a587c300a",
   "metadata": {
    "tags": []
   },
   "outputs": [
    {
     "name": "stderr",
     "output_type": "stream",
     "text": [
      "/tmp/ipykernel_17534/2071230755.py:5: FutureWarning: The default value of numeric_only in DataFrameGroupBy.mean is deprecated. In a future version, numeric_only will default to False. Either specify numeric_only or select only columns which should be valid for the function.\n",
      "  mor_mon = mor.resample('M').mean()\n"
     ]
    },
    {
     "data": {
      "text/html": [
       "<div>\n",
       "<style scoped>\n",
       "    .dataframe tbody tr th:only-of-type {\n",
       "        vertical-align: middle;\n",
       "    }\n",
       "\n",
       "    .dataframe tbody tr th {\n",
       "        vertical-align: top;\n",
       "    }\n",
       "\n",
       "    .dataframe thead th {\n",
       "        text-align: right;\n",
       "    }\n",
       "</style>\n",
       "<table border=\"1\" class=\"dataframe\">\n",
       "  <thead>\n",
       "    <tr style=\"text-align: right;\">\n",
       "      <th></th>\n",
       "      <th>TEMP</th>\n",
       "    </tr>\n",
       "    <tr>\n",
       "      <th>TIME</th>\n",
       "      <th></th>\n",
       "    </tr>\n",
       "  </thead>\n",
       "  <tbody>\n",
       "    <tr>\n",
       "      <th>2008-08-31</th>\n",
       "      <td>14.256375</td>\n",
       "    </tr>\n",
       "    <tr>\n",
       "      <th>2008-09-30</th>\n",
       "      <td>14.363663</td>\n",
       "    </tr>\n",
       "    <tr>\n",
       "      <th>2008-10-31</th>\n",
       "      <td>14.873148</td>\n",
       "    </tr>\n",
       "    <tr>\n",
       "      <th>2008-11-30</th>\n",
       "      <td>15.532777</td>\n",
       "    </tr>\n",
       "    <tr>\n",
       "      <th>2008-12-31</th>\n",
       "      <td>16.153825</td>\n",
       "    </tr>\n",
       "    <tr>\n",
       "      <th>...</th>\n",
       "      <td>...</td>\n",
       "    </tr>\n",
       "    <tr>\n",
       "      <th>2023-01-31</th>\n",
       "      <td>14.030186</td>\n",
       "    </tr>\n",
       "    <tr>\n",
       "      <th>2023-02-28</th>\n",
       "      <td>14.010088</td>\n",
       "    </tr>\n",
       "    <tr>\n",
       "      <th>2023-03-31</th>\n",
       "      <td>15.036819</td>\n",
       "    </tr>\n",
       "    <tr>\n",
       "      <th>2023-04-30</th>\n",
       "      <td>17.123268</td>\n",
       "    </tr>\n",
       "    <tr>\n",
       "      <th>2023-05-31</th>\n",
       "      <td>18.225602</td>\n",
       "    </tr>\n",
       "  </tbody>\n",
       "</table>\n",
       "<p>178 rows × 1 columns</p>\n",
       "</div>"
      ],
      "text/plain": [
       "                 TEMP\n",
       "TIME                 \n",
       "2008-08-31  14.256375\n",
       "2008-09-30  14.363663\n",
       "2008-10-31  14.873148\n",
       "2008-11-30  15.532777\n",
       "2008-12-31  16.153825\n",
       "...               ...\n",
       "2023-01-31  14.030186\n",
       "2023-02-28  14.010088\n",
       "2023-03-31  15.036819\n",
       "2023-04-30  17.123268\n",
       "2023-05-31  18.225602\n",
       "\n",
       "[178 rows x 1 columns]"
      ]
     },
     "execution_count": 4,
     "metadata": {},
     "output_type": "execute_result"
    }
   ],
   "source": [
    "#Read the mooring data and resample to monthly\n",
    "mor = pd.read_csv('../Datasets/NRSKAI_TEMP_101-111m.csv')\n",
    "mor['TIME'] = pd.to_datetime(mor['TIME'])\n",
    "mor.index = mor['TIME']\n",
    "mor_mon = mor.resample('M').mean()\n",
    "mor_mon = mor_mon.drop(['DEPTH'],axis=1)\n",
    "mor_mon"
   ]
  },
  {
   "cell_type": "code",
   "execution_count": 5,
   "id": "f0c44195-21eb-4fa6-b680-c9557d66840c",
   "metadata": {
    "tags": []
   },
   "outputs": [
    {
     "data": {
      "text/html": [
       "<div>\n",
       "<style scoped>\n",
       "    .dataframe tbody tr th:only-of-type {\n",
       "        vertical-align: middle;\n",
       "    }\n",
       "\n",
       "    .dataframe tbody tr th {\n",
       "        vertical-align: top;\n",
       "    }\n",
       "\n",
       "    .dataframe thead th {\n",
       "        text-align: right;\n",
       "    }\n",
       "</style>\n",
       "<table border=\"1\" class=\"dataframe\">\n",
       "  <thead>\n",
       "    <tr style=\"text-align: right;\">\n",
       "      <th></th>\n",
       "      <th>TEMP</th>\n",
       "    </tr>\n",
       "    <tr>\n",
       "      <th>TIME</th>\n",
       "      <th></th>\n",
       "    </tr>\n",
       "  </thead>\n",
       "  <tbody>\n",
       "    <tr>\n",
       "      <th>2008-08-31</th>\n",
       "      <td>-0.515712</td>\n",
       "    </tr>\n",
       "    <tr>\n",
       "      <th>2008-09-30</th>\n",
       "      <td>-0.333575</td>\n",
       "    </tr>\n",
       "    <tr>\n",
       "      <th>2008-10-31</th>\n",
       "      <td>-0.145784</td>\n",
       "    </tr>\n",
       "    <tr>\n",
       "      <th>2008-11-30</th>\n",
       "      <td>0.424062</td>\n",
       "    </tr>\n",
       "    <tr>\n",
       "      <th>2008-12-31</th>\n",
       "      <td>1.009310</td>\n",
       "    </tr>\n",
       "    <tr>\n",
       "      <th>...</th>\n",
       "      <td>...</td>\n",
       "    </tr>\n",
       "    <tr>\n",
       "      <th>2023-01-31</th>\n",
       "      <td>-0.284630</td>\n",
       "    </tr>\n",
       "    <tr>\n",
       "      <th>2023-02-28</th>\n",
       "      <td>0.718094</td>\n",
       "    </tr>\n",
       "    <tr>\n",
       "      <th>2023-03-31</th>\n",
       "      <td>1.430747</td>\n",
       "    </tr>\n",
       "    <tr>\n",
       "      <th>2023-04-30</th>\n",
       "      <td>1.202743</td>\n",
       "    </tr>\n",
       "    <tr>\n",
       "      <th>2023-05-31</th>\n",
       "      <td>0.413714</td>\n",
       "    </tr>\n",
       "  </tbody>\n",
       "</table>\n",
       "<p>178 rows × 1 columns</p>\n",
       "</div>"
      ],
      "text/plain": [
       "                TEMP\n",
       "TIME                \n",
       "2008-08-31 -0.515712\n",
       "2008-09-30 -0.333575\n",
       "2008-10-31 -0.145784\n",
       "2008-11-30  0.424062\n",
       "2008-12-31  1.009310\n",
       "...              ...\n",
       "2023-01-31 -0.284630\n",
       "2023-02-28  0.718094\n",
       "2023-03-31  1.430747\n",
       "2023-04-30  1.202743\n",
       "2023-05-31  0.413714\n",
       "\n",
       "[178 rows x 1 columns]"
      ]
     },
     "execution_count": 5,
     "metadata": {},
     "output_type": "execute_result"
    }
   ],
   "source": [
    "# Calculate the mean for each month across all years\n",
    "monthly_means = mor_mon.groupby(mor_mon.index.month).mean()\n",
    "\n",
    "# Calculate the anomalies by subtracting the monthly means from the data\n",
    "anomalies = mor_mon - monthly_means.iloc[mor_mon.index.month - 1].values\n",
    "anomalies"
   ]
  },
  {
   "cell_type": "code",
   "execution_count": 6,
   "id": "a22247ad-8770-4e60-a6ea-6cea52009105",
   "metadata": {
    "tags": []
   },
   "outputs": [
    {
     "name": "stderr",
     "output_type": "stream",
     "text": [
      "/tmp/ipykernel_17534/3500156117.py:3: UserWarning: Parsing dates in DD/MM/YYYY format when dayfirst=False (the default) was specified. This may lead to inconsistently parsed dates! Specify a format to ensure consistent parsing.\n",
      "  soi['date'] = pd.to_datetime(soi['date'])\n"
     ]
    }
   ],
   "source": [
    "#ENSO index\n",
    "soi = pd.read_csv('../Datasets/SOI_index.csv')\n",
    "soi['date'] = pd.to_datetime(soi['date'])\n",
    "soi.set_index('date',inplace=True)"
   ]
  },
  {
   "cell_type": "code",
   "execution_count": 7,
   "id": "9e274e6f-2453-4e7d-933c-38f7eca4d8ab",
   "metadata": {
    "tags": []
   },
   "outputs": [
    {
     "name": "stderr",
     "output_type": "stream",
     "text": [
      "/tmp/ipykernel_17534/1226400779.py:3: UserWarning: Parsing dates in DD/MM/YYYY format when dayfirst=False (the default) was specified. This may lead to inconsistently parsed dates! Specify a format to ensure consistent parsing.\n",
      "  iod['date'] = pd.to_datetime(iod['date'])\n",
      "/tmp/ipykernel_17534/1226400779.py:8: UserWarning: Parsing dates in DD/MM/YYYY format when dayfirst=False (the default) was specified. This may lead to inconsistently parsed dates! Specify a format to ensure consistent parsing.\n",
      "  sam['date'] = pd.to_datetime(sam['date'])\n"
     ]
    },
    {
     "data": {
      "text/html": [
       "<div>\n",
       "<style scoped>\n",
       "    .dataframe tbody tr th:only-of-type {\n",
       "        vertical-align: middle;\n",
       "    }\n",
       "\n",
       "    .dataframe tbody tr th {\n",
       "        vertical-align: top;\n",
       "    }\n",
       "\n",
       "    .dataframe thead th {\n",
       "        text-align: right;\n",
       "    }\n",
       "</style>\n",
       "<table border=\"1\" class=\"dataframe\">\n",
       "  <thead>\n",
       "    <tr style=\"text-align: right;\">\n",
       "      <th></th>\n",
       "      <th>sam_index</th>\n",
       "    </tr>\n",
       "    <tr>\n",
       "      <th>date</th>\n",
       "      <th></th>\n",
       "    </tr>\n",
       "  </thead>\n",
       "  <tbody>\n",
       "    <tr>\n",
       "      <th>1990-01-31</th>\n",
       "      <td>-0.23</td>\n",
       "    </tr>\n",
       "    <tr>\n",
       "      <th>1990-02-28</th>\n",
       "      <td>1.95</td>\n",
       "    </tr>\n",
       "    <tr>\n",
       "      <th>1990-03-31</th>\n",
       "      <td>0.80</td>\n",
       "    </tr>\n",
       "    <tr>\n",
       "      <th>1990-04-30</th>\n",
       "      <td>-3.34</td>\n",
       "    </tr>\n",
       "    <tr>\n",
       "      <th>1990-05-31</th>\n",
       "      <td>-3.35</td>\n",
       "    </tr>\n",
       "    <tr>\n",
       "      <th>...</th>\n",
       "      <td>...</td>\n",
       "    </tr>\n",
       "    <tr>\n",
       "      <th>2020-08-31</th>\n",
       "      <td>-2.20</td>\n",
       "    </tr>\n",
       "    <tr>\n",
       "      <th>2020-09-30</th>\n",
       "      <td>-0.25</td>\n",
       "    </tr>\n",
       "    <tr>\n",
       "      <th>2020-10-31</th>\n",
       "      <td>1.79</td>\n",
       "    </tr>\n",
       "    <tr>\n",
       "      <th>2020-11-30</th>\n",
       "      <td>1.14</td>\n",
       "    </tr>\n",
       "    <tr>\n",
       "      <th>2020-12-31</th>\n",
       "      <td>2.28</td>\n",
       "    </tr>\n",
       "  </tbody>\n",
       "</table>\n",
       "<p>372 rows × 1 columns</p>\n",
       "</div>"
      ],
      "text/plain": [
       "            sam_index\n",
       "date                 \n",
       "1990-01-31      -0.23\n",
       "1990-02-28       1.95\n",
       "1990-03-31       0.80\n",
       "1990-04-30      -3.34\n",
       "1990-05-31      -3.35\n",
       "...               ...\n",
       "2020-08-31      -2.20\n",
       "2020-09-30      -0.25\n",
       "2020-10-31       1.79\n",
       "2020-11-30       1.14\n",
       "2020-12-31       2.28\n",
       "\n",
       "[372 rows x 1 columns]"
      ]
     },
     "execution_count": 7,
     "metadata": {},
     "output_type": "execute_result"
    }
   ],
   "source": [
    "#IOD index\n",
    "iod = pd.read_csv('../Datasets/iod_index.csv')\n",
    "iod['date'] = pd.to_datetime(iod['date'])\n",
    "iod.set_index('date',inplace=True)\n",
    "\n",
    "#SAM index\n",
    "sam = pd.read_csv('../Datasets/SAM_index.csv')\n",
    "sam['date'] = pd.to_datetime(sam['date'])\n",
    "sam.set_index('date',inplace=True)\n",
    "\n",
    "sam"
   ]
  },
  {
   "cell_type": "code",
   "execution_count": 8,
   "id": "9133080c-3d1b-4ae9-9699-69d59b374c08",
   "metadata": {
    "tags": []
   },
   "outputs": [],
   "source": [
    "#making the time axis equal and creating a new dataframe with all the variables\n",
    "start = max(anomalies.index.min(),soi.index.min())\n",
    "end = min(anomalies.index.max(),soi.index.max())\n",
    "anomalies_new = anomalies.loc[start:end]\n",
    "soi_new = soi.loc[start:end]\n",
    "iod_new = iod.loc[start:end]\n",
    "sam_new = sam.loc[start:end]\n",
    "\n",
    "new_df = pd.concat([anomalies_new,soi_new,iod_new,sam_new],axis=1)\n",
    "#new_df.to_csv('trial.csv')"
   ]
  },
  {
   "cell_type": "code",
   "execution_count": 9,
   "id": "5f063f77-f125-48c5-960c-956c7a2d1b77",
   "metadata": {
    "tags": []
   },
   "outputs": [],
   "source": [
    "# Remove rows with NaN values\n",
    "df_cleaned = new_df.dropna()\n",
    "\n",
    "# Calculate the correlation matrix\n",
    "correlation_matrix = df_cleaned[['soi_index', 'iod_index', 'sam_index', 'TEMP']].corr()\n",
    "\n",
    "# Calculate the inverse of the correlation matrix\n",
    "inv_corr_matrix = np.linalg.inv(correlation_matrix.values)\n",
    "\n",
    "# Calculate partial correlations\n",
    "partial_corr_enso = -inv_corr_matrix[0, 3] / np.sqrt(inv_corr_matrix[0, 0] * inv_corr_matrix[3, 3])\n",
    "partial_corr_sam = -inv_corr_matrix[2, 3] / np.sqrt(inv_corr_matrix[2, 2] * inv_corr_matrix[3, 3])\n",
    "partial_corr_iod = -inv_corr_matrix[1, 3] / np.sqrt(inv_corr_matrix[1, 1] * inv_corr_matrix[3, 3])"
   ]
  },
  {
   "cell_type": "code",
   "execution_count": 10,
   "id": "9d64d365-e679-436f-9f53-f95939e995c2",
   "metadata": {
    "tags": []
   },
   "outputs": [
    {
     "data": {
      "text/html": [
       "<div>\n",
       "<style scoped>\n",
       "    .dataframe tbody tr th:only-of-type {\n",
       "        vertical-align: middle;\n",
       "    }\n",
       "\n",
       "    .dataframe tbody tr th {\n",
       "        vertical-align: top;\n",
       "    }\n",
       "\n",
       "    .dataframe thead th {\n",
       "        text-align: right;\n",
       "    }\n",
       "</style>\n",
       "<table border=\"1\" class=\"dataframe\">\n",
       "  <thead>\n",
       "    <tr style=\"text-align: right;\">\n",
       "      <th></th>\n",
       "      <th>soi_index</th>\n",
       "      <th>iod_index</th>\n",
       "      <th>sam_index</th>\n",
       "      <th>TEMP</th>\n",
       "    </tr>\n",
       "  </thead>\n",
       "  <tbody>\n",
       "    <tr>\n",
       "      <th>soi_index</th>\n",
       "      <td>1.000000</td>\n",
       "      <td>-0.289515</td>\n",
       "      <td>0.132069</td>\n",
       "      <td>0.144907</td>\n",
       "    </tr>\n",
       "    <tr>\n",
       "      <th>iod_index</th>\n",
       "      <td>-0.289515</td>\n",
       "      <td>1.000000</td>\n",
       "      <td>-0.096046</td>\n",
       "      <td>-0.074311</td>\n",
       "    </tr>\n",
       "    <tr>\n",
       "      <th>sam_index</th>\n",
       "      <td>0.132069</td>\n",
       "      <td>-0.096046</td>\n",
       "      <td>1.000000</td>\n",
       "      <td>-0.186243</td>\n",
       "    </tr>\n",
       "    <tr>\n",
       "      <th>TEMP</th>\n",
       "      <td>0.144907</td>\n",
       "      <td>-0.074311</td>\n",
       "      <td>-0.186243</td>\n",
       "      <td>1.000000</td>\n",
       "    </tr>\n",
       "  </tbody>\n",
       "</table>\n",
       "</div>"
      ],
      "text/plain": [
       "           soi_index  iod_index  sam_index      TEMP\n",
       "soi_index   1.000000  -0.289515   0.132069  0.144907\n",
       "iod_index  -0.289515   1.000000  -0.096046 -0.074311\n",
       "sam_index   0.132069  -0.096046   1.000000 -0.186243\n",
       "TEMP        0.144907  -0.074311  -0.186243  1.000000"
      ]
     },
     "execution_count": 10,
     "metadata": {},
     "output_type": "execute_result"
    }
   ],
   "source": [
    "#Direct correlations\n",
    "correlation_matrix"
   ]
  },
  {
   "cell_type": "code",
   "execution_count": 11,
   "id": "ba849050-97ff-42b1-9741-2ca4ef6afd22",
   "metadata": {
    "tags": []
   },
   "outputs": [
    {
     "name": "stdout",
     "output_type": "stream",
     "text": [
      "Partial correlation between ENSO and TEMP: 0.15446042842624913\n",
      "Partial correlation between SAM and TEMP: -0.21200555135006952\n",
      "Partial correlation between IOD and TEMP: -0.048079332658071586\n"
     ]
    }
   ],
   "source": [
    "# Partial Correlations\n",
    "print(\"Partial correlation between ENSO and TEMP:\", partial_corr_enso)\n",
    "print(\"Partial correlation between SAM and TEMP:\", partial_corr_sam)\n",
    "print(\"Partial correlation between IOD and TEMP:\", partial_corr_iod)"
   ]
  }
 ],
 "metadata": {
  "kernelspec": {
   "display_name": "Python 3 (ipykernel)",
   "language": "python",
   "name": "python3"
  },
  "language_info": {
   "codemirror_mode": {
    "name": "ipython",
    "version": 3
   },
   "file_extension": ".py",
   "mimetype": "text/x-python",
   "name": "python",
   "nbconvert_exporter": "python",
   "pygments_lexer": "ipython3",
   "version": "3.9.16"
  }
 },
 "nbformat": 4,
 "nbformat_minor": 5
}
