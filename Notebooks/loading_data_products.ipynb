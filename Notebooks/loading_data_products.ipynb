{
 "cells": [
  {
   "cell_type": "markdown",
   "id": "4208ed03-d4a3-4034-8b4d-dc1dffafb851",
   "metadata": {},
   "source": [
    "## Loading data products\n",
    "\n",
    "- Load remote data for desired moorings\n",
    "- Write data locally\n",
    "\n",
    "Reproduce the contents of `ExampleCodeFromOHW22.ipynb` using functions in the `sa_upwelling` package."
   ]
  },
  {
   "cell_type": "code",
   "execution_count": 1,
   "id": "c74e3e98-e1d9-43f7-8336-84960bea089d",
   "metadata": {},
   "outputs": [],
   "source": [
    "import sys\n",
    "from glob import glob\n",
    "from pathlib import Path\n",
    "\n",
    "sys.path.insert(0, \"../sa_upwelling\")   # Allows using the files in the Python package\n",
    "import utils\n",
    "\n",
    "\n",
    "from matplotlib import pyplot as plt"
   ]
  },
  {
   "cell_type": "markdown",
   "id": "18553242-41b2-4297-8429-99f6f895d2c0",
   "metadata": {},
   "source": [
    "SA coastal moorings that are active: \n",
    "* SAM8SG\n",
    "* SAM5CB\n",
    "\n",
    "National Reference Station Kangaroo Island\n",
    "* NRSKAI\n",
    "\n",
    "SA coastal moorings that are not active but have data available:\n",
    "* SAM2CP\n",
    "* SAM6IS\n",
    "* SAM3MS\n",
    "* SAM7DS\n",
    "\n",
    "**Notes:**\n",
    "* Look at TS for details: https://imos.org.au/fileadmin/user_upload/shared/ANMN/SA_Moorings/06c._Southern_Australia_Moorings_-_TS.pdf\n",
    "* Aggregate has data only from termistor\n",
    "* Avoid CTD-derived data (look out for anomalies)\n"
   ]
  },
  {
   "cell_type": "code",
   "execution_count": 2,
   "id": "3e492b17-f8d0-4393-b0ab-d30e05d06f53",
   "metadata": {
    "tags": []
   },
   "outputs": [],
   "source": [
    "# List of moorings and corresponding regions to build S3 paths\n",
    "moorings = [\n",
    "    (\"NRS\", \"NRSKAI\"),\n",
    "    (\"SA\", \"SAM8SG\"),\n",
    "    (\"SA\", \"SAM5CB\"),\n",
    "    (\"SA\", \"SAM2CP\"),\n",
    "    (\"SA\", \"SAM6IS\"),\n",
    "    (\"SA\", \"SAM3MS\"),\n",
    "    (\"SA\", \"SAM7DS\")\n",
    "]"
   ]
  },
  {
   "cell_type": "markdown",
   "id": "32dfcafd-3359-40a3-938b-26c799063a88",
   "metadata": {},
   "source": [
    "### Hourly time-series"
   ]
  },
  {
   "cell_type": "code",
   "execution_count": 3,
   "id": "fe2bbc57-af6b-4c7c-9a4b-4c252e4ca55a",
   "metadata": {
    "tags": []
   },
   "outputs": [
    {
     "name": "stdout",
     "output_type": "stream",
     "text": [
      "Loading local hourly-timeseries data for mooring 'NRSKAI'.\n",
      "Loading local hourly-timeseries data for mooring 'SAM8SG'.\n",
      "Loading local hourly-timeseries data for mooring 'SAM5CB'.\n",
      "Loading local hourly-timeseries data for mooring 'SAM2CP'.\n",
      "Loading local hourly-timeseries data for mooring 'SAM6IS'.\n",
      "Loading local hourly-timeseries data for mooring 'SAM3MS'.\n",
      "Loading local hourly-timeseries data for mooring 'SAM7DS'.\n"
     ]
    }
   ],
   "source": [
    "data_type = \"hourly-timeseries\"\n",
    "timeseries_files, timeseries_ds = dict(), dict()\n",
    "\n",
    "# Find file URLs on S3 or load local files\n",
    "for region, mooring in moorings:\n",
    "    \n",
    "    # Check if file exists\n",
    "    glob_path = glob(f\"../Datasets/{region}/{mooring}/*{data_type}*\")\n",
    "    local = len(glob_path) > 0\n",
    "    \n",
    "    # Retrieve from remote if they don't exist\n",
    "    if not local:\n",
    "        print(f\"Geting URLs of {data_type} for mooring '{mooring}'.\")\n",
    "        path = f\"s3://imos-data/IMOS/ANMN/{region}/{mooring}/{data_type.replace('-', '_')}/\"\n",
    "        file_url = utils.load_file_urls(path, pattern=f\"*_{data_type}_*.nc\")[0]\n",
    "        timeseries_files[mooring] = file_url        \n",
    "    # Load them locally if they exist\n",
    "    else:\n",
    "        print(f\"Loading local {data_type} data for mooring '{mooring}'.\")\n",
    "        file_url = glob_path[0]\n",
    "        timeseries_files[mooring] = file_url\n",
    "    \n",
    "    outfile = f\"../Datasets/{region}/{mooring}/\" + file_url.split(\"/\")[-1]\n",
    "    timeseries_ds[mooring] = utils.open_nc(outfile if local else file_url, remote=not local)\n",
    "    \n",
    "    # Write files locally if they don't exist\n",
    "    if not local:\n",
    "        timeseries_ds[mooring].to_netcdf(outfile)\n",
    "\n"
   ]
  },
  {
   "cell_type": "code",
   "execution_count": 4,
   "id": "84591a6d-fc01-40b3-949a-c5b6170754f6",
   "metadata": {
    "tags": []
   },
   "outputs": [
    {
     "name": "stdout",
     "output_type": "stream",
     "text": [
      "Loading local aggregated-timeseries data for mooring 'NRSKAI'.\n",
      "Loading local aggregated-timeseries data for mooring 'SAM8SG'.\n",
      "Loading local aggregated-timeseries data for mooring 'SAM5CB'.\n",
      "Loading local aggregated-timeseries data for mooring 'SAM2CP'.\n",
      "Loading local aggregated-timeseries data for mooring 'SAM6IS'.\n",
      "Loading local aggregated-timeseries data for mooring 'SAM3MS'.\n",
      "Loading local aggregated-timeseries data for mooring 'SAM7DS'.\n"
     ]
    }
   ],
   "source": [
    "data_type = \"aggregated-timeseries\"\n",
    "files, ds = dict(), dict()\n",
    "\n",
    "# Find file URLs on S3 or load local files\n",
    "for region, mooring in moorings:\n",
    "    \n",
    "    # Check if file exists\n",
    "    glob_path = glob(f\"../Datasets/{region}/{mooring}/*{data_type}*\")\n",
    "    local = len(glob_path) > 0\n",
    "    \n",
    "    # Retrieve from remote if they don't exist\n",
    "    if not local:\n",
    "        print(f\"Geting URLs of {data_type} for mooring '{mooring}'.\")\n",
    "        path = f\"s3://imos-data/IMOS/ANMN/{region}/{mooring}/{data_type.replace('-', '_')}/\"\n",
    "        pattern = f\"*TEMP-{data_type}_*.nc\"\n",
    "        file_url = utils.load_file_urls(path, pattern)[0]\n",
    "        files[mooring] = file_url\n",
    "        \n",
    "    # Load them locally if they exist\n",
    "    else:\n",
    "        print(f\"Loading local {data_type} data for mooring '{mooring}'.\")\n",
    "        file_url = glob_path[0]\n",
    "        files[mooring] = file_url\n",
    "    \n",
    "    outfile = f\"../Datasets/{region}/{mooring}/\" + file_url.split(\"/\")[-1]\n",
    "    ds[mooring] = utils.open_nc(outfile if local else file_url, remote=not local)\n",
    "    \n",
    "    # Write files locally if they don't exist\n",
    "    if not local:\n",
    "        ds[mooring].to_netcdf(outfile)"
   ]
  },
  {
   "cell_type": "code",
   "execution_count": null,
   "id": "a399b9dc-ec2b-4036-8b3f-0fcc3177a60b",
   "metadata": {},
   "outputs": [],
   "source": []
  }
 ],
 "metadata": {
  "kernelspec": {
   "display_name": "Python [conda env:.conda-ohw23_upwelling]",
   "language": "python",
   "name": "conda-env-.conda-ohw23_upwelling-py"
  },
  "language_info": {
   "codemirror_mode": {
    "name": "ipython",
    "version": 3
   },
   "file_extension": ".py",
   "mimetype": "text/x-python",
   "name": "python",
   "nbconvert_exporter": "python",
   "pygments_lexer": "ipython3",
   "version": "3.11.4"
  }
 },
 "nbformat": 4,
 "nbformat_minor": 5
}
