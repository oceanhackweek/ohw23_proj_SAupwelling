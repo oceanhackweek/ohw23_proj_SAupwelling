{
 "cells": [
  {
   "cell_type": "markdown",
   "id": "4208ed03-d4a3-4034-8b4d-dc1dffafb851",
   "metadata": {},
   "source": [
    "## Loading data products\n",
    "\n",
    "- Load remote data for desired moorings\n",
    "- Write data locally\n",
    "\n",
    "Reproduce the contents of `ExampleCodeFromOHW22.ipynb` using functions in the `sa_upwelling` package."
   ]
  },
  {
   "cell_type": "code",
   "execution_count": 1,
   "id": "c74e3e98-e1d9-43f7-8336-84960bea089d",
   "metadata": {},
   "outputs": [],
   "source": [
    "import sys\n",
    "from glob import glob\n",
    "from pathlib import Path\n",
    "\n",
    "sys.path.insert(0, \"../sa_upwelling\")   # Allows using the files in the Python package\n",
    "import utils\n",
    "\n",
    "\n",
    "from matplotlib import pyplot as plt"
   ]
  },
  {
   "cell_type": "markdown",
   "id": "18553242-41b2-4297-8429-99f6f895d2c0",
   "metadata": {},
   "source": [
    "SA coastal moorings that are active: \n",
    "* SAM8SG\n",
    "* SAM5CB\n",
    "\n",
    "National Reference Station Kangaroo Island\n",
    "* NRSKAI\n",
    "\n",
    "SA coastal moorings that are not active but have data available:\n",
    "* SAM2CP\n",
    "* SAM6IS\n",
    "* SAM3MS\n",
    "* SAM7DS\n",
    "\n",
    "**Notes:**\n",
    "* Look at TS for details: https://imos.org.au/fileadmin/user_upload/shared/ANMN/SA_Moorings/06c._Southern_Australia_Moorings_-_TS.pdf\n",
    "* Aggregate has data only from termistor\n",
    "* Avoid CTD-derived data (look out for anomalies)\n"
   ]
  },
  {
   "cell_type": "markdown",
   "id": "32dfcafd-3359-40a3-938b-26c799063a88",
   "metadata": {},
   "source": [
    "### Hourly time-series"
   ]
  },
  {
   "cell_type": "code",
   "execution_count": 2,
   "id": "a9353766-d640-43d1-8ea8-e74b214df0f4",
   "metadata": {
    "tags": []
   },
   "outputs": [
    {
     "name": "stdout",
     "output_type": "stream",
     "text": [
      "Loading local hourly-timeseries data for mooring 'NRSKAI'.\n",
      "Loading local hourly-timeseries data for mooring 'SAM8SG'.\n",
      "Loading local hourly-timeseries data for mooring 'SAM5CB'.\n",
      "Loading local hourly-timeseries data for mooring 'SAM2CP'.\n",
      "Loading local hourly-timeseries data for mooring 'SAM6IS'.\n",
      "Loading local hourly-timeseries data for mooring 'SAM3MS'.\n",
      "Loading local hourly-timeseries data for mooring 'SAM7DS'.\n"
     ]
    }
   ],
   "source": [
    "hourly_files, hourly_ds = utils.load_data_products()"
   ]
  },
  {
   "cell_type": "code",
   "execution_count": 3,
   "id": "6bcfab1f-1ab6-4857-9810-5d7267c6ab2e",
   "metadata": {
    "tags": []
   },
   "outputs": [
    {
     "name": "stdout",
     "output_type": "stream",
     "text": [
      "Loading local hourly-timeseries data for mooring 'NRSKAI'.\n",
      "Loading local hourly-timeseries data for mooring 'SAM8SG'.\n",
      "Loading local hourly-timeseries data for mooring 'SAM5CB'.\n",
      "Loading local hourly-timeseries data for mooring 'SAM2CP'.\n",
      "Loading local hourly-timeseries data for mooring 'SAM6IS'.\n",
      "Loading local hourly-timeseries data for mooring 'SAM3MS'.\n",
      "Loading local hourly-timeseries data for mooring 'SAM7DS'.\n"
     ]
    }
   ],
   "source": [
    "agg_files, agg_ds = utils.load_data_products(data_type=\"aggregated_timeseries\",\n",
    "                                     pattern=\"*TEMP-aggregated-timeseries_*.nc\")"
   ]
  },
  {
   "cell_type": "code",
   "execution_count": null,
   "id": "391a316b-83d0-4e56-ad53-50684f2598fd",
   "metadata": {},
   "outputs": [],
   "source": []
  }
 ],
 "metadata": {
  "kernelspec": {
   "display_name": "Python [conda env:.conda-ohw23_upwelling]",
   "language": "python",
   "name": "conda-env-.conda-ohw23_upwelling-py"
  },
  "language_info": {
   "codemirror_mode": {
    "name": "ipython",
    "version": 3
   },
   "file_extension": ".py",
   "mimetype": "text/x-python",
   "name": "python",
   "nbconvert_exporter": "python",
   "pygments_lexer": "ipython3",
   "version": "3.11.4"
  }
 },
 "nbformat": 4,
 "nbformat_minor": 5
}
